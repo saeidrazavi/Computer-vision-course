{
  "nbformat": 4,
  "nbformat_minor": 0,
  "metadata": {
    "colab": {
      "name": "hw05-computer vision_verision2.ipynb",
      "provenance": [],
      "collapsed_sections": []
    },
    "kernelspec": {
      "name": "python3",
      "display_name": "Python 3"
    },
    "language_info": {
      "name": "python"
    },
    "gpuClass": "standard",
    "accelerator": "GPU",
    "widgets": {
      "application/vnd.jupyter.widget-state+json": {
        "5cf23cbfb18243a596ad79cb7993f1cb": {
          "model_module": "@jupyter-widgets/controls",
          "model_name": "HBoxModel",
          "model_module_version": "1.5.0",
          "state": {
            "_dom_classes": [],
            "_model_module": "@jupyter-widgets/controls",
            "_model_module_version": "1.5.0",
            "_model_name": "HBoxModel",
            "_view_count": null,
            "_view_module": "@jupyter-widgets/controls",
            "_view_module_version": "1.5.0",
            "_view_name": "HBoxView",
            "box_style": "",
            "children": [
              "IPY_MODEL_d131bddc333a4d31a7724336b71715a4",
              "IPY_MODEL_00fc8fb25a7e43479f7b08f524f9b86d",
              "IPY_MODEL_4936a41446864ac3b3b5af85e3f3b970"
            ],
            "layout": "IPY_MODEL_eb46ac4322f24fabb2ea65cbc3b0628f"
          }
        },
        "d131bddc333a4d31a7724336b71715a4": {
          "model_module": "@jupyter-widgets/controls",
          "model_name": "HTMLModel",
          "model_module_version": "1.5.0",
          "state": {
            "_dom_classes": [],
            "_model_module": "@jupyter-widgets/controls",
            "_model_module_version": "1.5.0",
            "_model_name": "HTMLModel",
            "_view_count": null,
            "_view_module": "@jupyter-widgets/controls",
            "_view_module_version": "1.5.0",
            "_view_name": "HTMLView",
            "description": "",
            "description_tooltip": null,
            "layout": "IPY_MODEL_eef3eeeb217c49cfb509b8b803d57a96",
            "placeholder": "​",
            "style": "IPY_MODEL_38a28280757c486e8730e0a6538f5a67",
            "value": "100%"
          }
        },
        "00fc8fb25a7e43479f7b08f524f9b86d": {
          "model_module": "@jupyter-widgets/controls",
          "model_name": "FloatProgressModel",
          "model_module_version": "1.5.0",
          "state": {
            "_dom_classes": [],
            "_model_module": "@jupyter-widgets/controls",
            "_model_module_version": "1.5.0",
            "_model_name": "FloatProgressModel",
            "_view_count": null,
            "_view_module": "@jupyter-widgets/controls",
            "_view_module_version": "1.5.0",
            "_view_name": "ProgressView",
            "bar_style": "success",
            "description": "",
            "description_tooltip": null,
            "layout": "IPY_MODEL_e0e184009f4c471b8ec8dc446a9e6400",
            "max": 244408911,
            "min": 0,
            "orientation": "horizontal",
            "style": "IPY_MODEL_8c4f604193c545af822642a5e6f512b2",
            "value": 244408911
          }
        },
        "4936a41446864ac3b3b5af85e3f3b970": {
          "model_module": "@jupyter-widgets/controls",
          "model_name": "HTMLModel",
          "model_module_version": "1.5.0",
          "state": {
            "_dom_classes": [],
            "_model_module": "@jupyter-widgets/controls",
            "_model_module_version": "1.5.0",
            "_model_name": "HTMLModel",
            "_view_count": null,
            "_view_module": "@jupyter-widgets/controls",
            "_view_module_version": "1.5.0",
            "_view_name": "HTMLView",
            "description": "",
            "description_tooltip": null,
            "layout": "IPY_MODEL_304c1531ce134b38883a6bb32cb8a543",
            "placeholder": "​",
            "style": "IPY_MODEL_36d02f74a02f41228f31e53298e6f5e2",
            "value": " 233M/233M [00:01&lt;00:00, 192MB/s]"
          }
        },
        "eb46ac4322f24fabb2ea65cbc3b0628f": {
          "model_module": "@jupyter-widgets/base",
          "model_name": "LayoutModel",
          "model_module_version": "1.2.0",
          "state": {
            "_model_module": "@jupyter-widgets/base",
            "_model_module_version": "1.2.0",
            "_model_name": "LayoutModel",
            "_view_count": null,
            "_view_module": "@jupyter-widgets/base",
            "_view_module_version": "1.2.0",
            "_view_name": "LayoutView",
            "align_content": null,
            "align_items": null,
            "align_self": null,
            "border": null,
            "bottom": null,
            "display": null,
            "flex": null,
            "flex_flow": null,
            "grid_area": null,
            "grid_auto_columns": null,
            "grid_auto_flow": null,
            "grid_auto_rows": null,
            "grid_column": null,
            "grid_gap": null,
            "grid_row": null,
            "grid_template_areas": null,
            "grid_template_columns": null,
            "grid_template_rows": null,
            "height": null,
            "justify_content": null,
            "justify_items": null,
            "left": null,
            "margin": null,
            "max_height": null,
            "max_width": null,
            "min_height": null,
            "min_width": null,
            "object_fit": null,
            "object_position": null,
            "order": null,
            "overflow": null,
            "overflow_x": null,
            "overflow_y": null,
            "padding": null,
            "right": null,
            "top": null,
            "visibility": null,
            "width": null
          }
        },
        "eef3eeeb217c49cfb509b8b803d57a96": {
          "model_module": "@jupyter-widgets/base",
          "model_name": "LayoutModel",
          "model_module_version": "1.2.0",
          "state": {
            "_model_module": "@jupyter-widgets/base",
            "_model_module_version": "1.2.0",
            "_model_name": "LayoutModel",
            "_view_count": null,
            "_view_module": "@jupyter-widgets/base",
            "_view_module_version": "1.2.0",
            "_view_name": "LayoutView",
            "align_content": null,
            "align_items": null,
            "align_self": null,
            "border": null,
            "bottom": null,
            "display": null,
            "flex": null,
            "flex_flow": null,
            "grid_area": null,
            "grid_auto_columns": null,
            "grid_auto_flow": null,
            "grid_auto_rows": null,
            "grid_column": null,
            "grid_gap": null,
            "grid_row": null,
            "grid_template_areas": null,
            "grid_template_columns": null,
            "grid_template_rows": null,
            "height": null,
            "justify_content": null,
            "justify_items": null,
            "left": null,
            "margin": null,
            "max_height": null,
            "max_width": null,
            "min_height": null,
            "min_width": null,
            "object_fit": null,
            "object_position": null,
            "order": null,
            "overflow": null,
            "overflow_x": null,
            "overflow_y": null,
            "padding": null,
            "right": null,
            "top": null,
            "visibility": null,
            "width": null
          }
        },
        "38a28280757c486e8730e0a6538f5a67": {
          "model_module": "@jupyter-widgets/controls",
          "model_name": "DescriptionStyleModel",
          "model_module_version": "1.5.0",
          "state": {
            "_model_module": "@jupyter-widgets/controls",
            "_model_module_version": "1.5.0",
            "_model_name": "DescriptionStyleModel",
            "_view_count": null,
            "_view_module": "@jupyter-widgets/base",
            "_view_module_version": "1.2.0",
            "_view_name": "StyleView",
            "description_width": ""
          }
        },
        "e0e184009f4c471b8ec8dc446a9e6400": {
          "model_module": "@jupyter-widgets/base",
          "model_name": "LayoutModel",
          "model_module_version": "1.2.0",
          "state": {
            "_model_module": "@jupyter-widgets/base",
            "_model_module_version": "1.2.0",
            "_model_name": "LayoutModel",
            "_view_count": null,
            "_view_module": "@jupyter-widgets/base",
            "_view_module_version": "1.2.0",
            "_view_name": "LayoutView",
            "align_content": null,
            "align_items": null,
            "align_self": null,
            "border": null,
            "bottom": null,
            "display": null,
            "flex": null,
            "flex_flow": null,
            "grid_area": null,
            "grid_auto_columns": null,
            "grid_auto_flow": null,
            "grid_auto_rows": null,
            "grid_column": null,
            "grid_gap": null,
            "grid_row": null,
            "grid_template_areas": null,
            "grid_template_columns": null,
            "grid_template_rows": null,
            "height": null,
            "justify_content": null,
            "justify_items": null,
            "left": null,
            "margin": null,
            "max_height": null,
            "max_width": null,
            "min_height": null,
            "min_width": null,
            "object_fit": null,
            "object_position": null,
            "order": null,
            "overflow": null,
            "overflow_x": null,
            "overflow_y": null,
            "padding": null,
            "right": null,
            "top": null,
            "visibility": null,
            "width": null
          }
        },
        "8c4f604193c545af822642a5e6f512b2": {
          "model_module": "@jupyter-widgets/controls",
          "model_name": "ProgressStyleModel",
          "model_module_version": "1.5.0",
          "state": {
            "_model_module": "@jupyter-widgets/controls",
            "_model_module_version": "1.5.0",
            "_model_name": "ProgressStyleModel",
            "_view_count": null,
            "_view_module": "@jupyter-widgets/base",
            "_view_module_version": "1.2.0",
            "_view_name": "StyleView",
            "bar_color": null,
            "description_width": ""
          }
        },
        "304c1531ce134b38883a6bb32cb8a543": {
          "model_module": "@jupyter-widgets/base",
          "model_name": "LayoutModel",
          "model_module_version": "1.2.0",
          "state": {
            "_model_module": "@jupyter-widgets/base",
            "_model_module_version": "1.2.0",
            "_model_name": "LayoutModel",
            "_view_count": null,
            "_view_module": "@jupyter-widgets/base",
            "_view_module_version": "1.2.0",
            "_view_name": "LayoutView",
            "align_content": null,
            "align_items": null,
            "align_self": null,
            "border": null,
            "bottom": null,
            "display": null,
            "flex": null,
            "flex_flow": null,
            "grid_area": null,
            "grid_auto_columns": null,
            "grid_auto_flow": null,
            "grid_auto_rows": null,
            "grid_column": null,
            "grid_gap": null,
            "grid_row": null,
            "grid_template_areas": null,
            "grid_template_columns": null,
            "grid_template_rows": null,
            "height": null,
            "justify_content": null,
            "justify_items": null,
            "left": null,
            "margin": null,
            "max_height": null,
            "max_width": null,
            "min_height": null,
            "min_width": null,
            "object_fit": null,
            "object_position": null,
            "order": null,
            "overflow": null,
            "overflow_x": null,
            "overflow_y": null,
            "padding": null,
            "right": null,
            "top": null,
            "visibility": null,
            "width": null
          }
        },
        "36d02f74a02f41228f31e53298e6f5e2": {
          "model_module": "@jupyter-widgets/controls",
          "model_name": "DescriptionStyleModel",
          "model_module_version": "1.5.0",
          "state": {
            "_model_module": "@jupyter-widgets/controls",
            "_model_module_version": "1.5.0",
            "_model_name": "DescriptionStyleModel",
            "_view_count": null,
            "_view_module": "@jupyter-widgets/base",
            "_view_module_version": "1.2.0",
            "_view_name": "StyleView",
            "description_width": ""
          }
        }
      }
    }
  },
  "cells": [
    {
      "cell_type": "markdown",
      "source": [
        "#**Scene Recognition Using Neural Networks**\n",
        "\n",
        "in this notebook we want to train cnn models with different architectures .\n",
        "\n",
        "* PART 1 : `using first convolutional layer and two last fully connected layer of Alexnet architecture .` note that we use `max_pooling` layer with `kernel_size=4` and `stride=4` in first layer .\n",
        "\n",
        "\n",
        "---\n",
        "\n",
        "\n",
        "* PART 2 : `using three first convolutions layer and three last fully connected layer of Alexnet architecture` . in the `third  layer` , we change the conv2d layer with depth of 384 to 256 .` \n",
        "\n",
        "\n",
        "---\n",
        "\n",
        "\n",
        "* PART 3 : using `whole Alexnet architecture` and just change the last fully_connected layer with depth of 1000 to 15 but `without any pre_trained weights.` more specifically , we don't use pre_trained parameters that derived for architecture from imagenet dataset .    \n",
        "\n",
        "\n",
        "---\n",
        "\n",
        "\n",
        "\n",
        "* PART 4 : using `whole Alexnet architecture` and just change the last fully_connected layer with depth of 1000 to 15  . we `use pre_trained weights` for all the layers expect for new classifer layer .during training ,  `we just let the parameters of new classifier layer to update` in each epoch and freeze all other parameters.\n",
        "\n",
        "---\n",
        "\n",
        "\n",
        "\n",
        "* PART 5 : using `whole Alexnet architecture` and just change the last fully_connected layer with depth of 1000 to 15  . we `use pre_trained weights` for all the layers expect for new classifier layer .during training ,  we `let all parameters of all layers to update in each epoch .` \n"
      ],
      "metadata": {
        "id": "WlBcSGpgse6J"
      }
    },
    {
      "cell_type": "markdown",
      "source": [
        "##**import required libraries**"
      ],
      "metadata": {
        "id": "G5sxpOrV-wHa"
      }
    },
    {
      "cell_type": "code",
      "execution_count": null,
      "metadata": {
        "id": "zLcWbBYm-p0w"
      },
      "outputs": [],
      "source": [
        "import numpy as np\n",
        "import torch\n",
        "import torch.nn as nn\n",
        "import torchvision\n",
        "from torchvision import datasets\n",
        "from torchvision import transforms\n",
        "from torch.utils.data.sampler import SubsetRandomSampler\n",
        "from google.colab import drive\n",
        "import torch.utils.data as data\n",
        "import os\n",
        "import zipfile\n",
        "import matplotlib.pyplot as plt "
      ]
    },
    {
      "cell_type": "markdown",
      "source": [
        "##**use gpu if it's available**"
      ],
      "metadata": {
        "id": "YTcR_908-5fl"
      }
    },
    {
      "cell_type": "code",
      "source": [
        "# Device configuration\n",
        "device = torch.device('cuda' if torch.cuda.is_available() else 'cpu')\n",
        "device"
      ],
      "metadata": {
        "colab": {
          "base_uri": "https://localhost:8080/"
        },
        "id": "BZHtlWnB-67d",
        "outputId": "133b9a39-56d6-4aaf-8b21-c12b6d48d486"
      },
      "execution_count": null,
      "outputs": [
        {
          "output_type": "execute_result",
          "data": {
            "text/plain": [
              "device(type='cuda')"
            ]
          },
          "metadata": {},
          "execution_count": 2
        }
      ]
    },
    {
      "cell_type": "markdown",
      "source": [
        "##**configuration**"
      ],
      "metadata": {
        "id": "ql4IcBpy_YiH"
      }
    },
    {
      "cell_type": "markdown",
      "source": [
        "below we determine hyper-parameters of our cnn model and root of train/test set\n",
        "\n",
        "* `batch_size` : set to `128` because for greater value the less update we have for the weights (doesn't converge well) and for smaller value we lost the generality of the model (the gradient is not trust-able)\n",
        "\n",
        "* `learning rate ` : set to `0.001` and gradually decrease in next epoch \n",
        "\n",
        "* `num_classes ` : set to `15` because our classification problem has 15 class \n",
        "\n",
        "* `epoches ` : number of epoches set to  `50` for this problem \n",
        "\n",
        "* `num_workers ` : indicate how multi_processing we have in each batch . is set it to `1` \n",
        "\n",
        "* `train_data_path` : path of extracted train data that we have pass to `torchvision.datasets.ImageFolder`  \n",
        "\n",
        "* `test_data_path` : path of extracted test data that we have pass to `torchvision.datasets.ImageFolder`  \n",
        "\n",
        "\n",
        "\n"
      ],
      "metadata": {
        "id": "75FhYiBXnkf-"
      }
    },
    {
      "cell_type": "code",
      "source": [
        "config = {\n",
        "    '''\n",
        "    note that all files are saved in folders.\n",
        "    Pictures of the same category are stored in each folder. \n",
        "    The folder name is class name\n",
        "\n",
        "    '''\n",
        "\n",
        "    'extracted_root' : \"/content/Data\", #path of extracted zip data\n",
        "    'train_data_path' : \"/content/Data/Train\" , #path of extracted train data \n",
        "    'test_data_path' : \"/content/Data/Test\" ,  # path of extracted test data \n",
        "    'batch_size' : 64 , \n",
        "    'num_workers' : 1 ,\n",
        "    'num_classes' : 15 ,\n",
        "    'eopches' : 50 ,\n",
        "    'learning_rate' : 0.0005\n",
        "}"
      ],
      "metadata": {
        "id": "qNOgj8vW_ZT_"
      },
      "execution_count": null,
      "outputs": []
    },
    {
      "cell_type": "markdown",
      "source": [
        "##**clone drive**"
      ],
      "metadata": {
        "id": "p7yemiBZ_Cvb"
      }
    },
    {
      "cell_type": "code",
      "source": [
        "drive.mount('/content/gdrive')"
      ],
      "metadata": {
        "id": "5sEuL2Zx_Oc6",
        "outputId": "ff1fc75a-f966-4ff4-a51a-7cbe77fbd281",
        "colab": {
          "base_uri": "https://localhost:8080/"
        }
      },
      "execution_count": null,
      "outputs": [
        {
          "output_type": "stream",
          "name": "stdout",
          "text": [
            "Mounted at /content/gdrive\n"
          ]
        }
      ]
    },
    {
      "cell_type": "markdown",
      "source": [
        "##**unzip dataset**"
      ],
      "metadata": {
        "id": "AX0FAkGy_fQa"
      }
    },
    {
      "cell_type": "code",
      "source": [
        "os.chdir(\"/content\")\n",
        "path_of_zip_file=\"/content/gdrive/MyDrive/vision_dataset/Data.zip\"\n",
        "\n",
        "with zipfile.ZipFile(path_of_zip_file, 'r') as zip_ref:\n",
        "      zip_ref.extractall(\"/content\")"
      ],
      "metadata": {
        "id": "PDkUOXVz_f9k"
      },
      "execution_count": null,
      "outputs": []
    },
    {
      "cell_type": "markdown",
      "source": [
        "##**define transform for training and test set**\n",
        "in this section we set different transforms for training and test set\n",
        "\n",
        "* training set : for this , we define 4 different transform in a sequential structure . \n",
        "\n",
        "1. resize each image (`transforms.Resize`) to `227×227`\n",
        "\n",
        "2. augment training set using `transforms.RandomHorizontalFlip` to mirror each image horizontally  . note that because our objective is  `scene recognition ` , many of transforms like rotating , mirror vertically and ... lead to bad training and bad dataset . so we only use `transforms.RandomVerticalFlip`. we set the p(probability) to 1 to have one new training dataset alongside the original training dataset\n",
        "\n",
        "3. convert dataset to tensor \n",
        "\n",
        "4. normalize dataset based on alexnet mean and std \n",
        "\n",
        "\n",
        "\n",
        "* test set : all of test_set transforms are like training_set transforms except that we don't need augmentation in test_set\n",
        "\n"
      ],
      "metadata": {
        "id": "g2W37OY2Oj2S"
      }
    },
    {
      "cell_type": "code",
      "source": [
        "#define normalization transform \n",
        "normalize = transforms.Normalize(                          \n",
        "        mean=[0.4914, 0.4822, 0.4465],\n",
        "        std=[0.2023, 0.1994, 0.2010],)\n",
        "\n",
        "\n",
        "#define train_set transform \n",
        "train_transform1 = transforms.Compose([\n",
        "            transforms.Resize((227,227)),\n",
        "            transforms.ToTensor(),\n",
        "            normalize,])\n",
        "\n",
        "#--------------------------\n",
        "\n",
        "train_transform2 = transforms.Compose([\n",
        "            transforms.Resize((227,227)),\n",
        "            transforms.RandomHorizontalFlip(p=1),\n",
        "            transforms.ToTensor(),\n",
        "            normalize,])\n",
        "# #---------------------------\n",
        "\n",
        "#define test_set transform \n",
        "test_transform = transforms.Compose([\n",
        "            transforms.Resize((227,227)),\n",
        "            transforms.ToTensor(),\n",
        "            normalize,])"
      ],
      "metadata": {
        "id": "c14fbSyNPWUQ"
      },
      "execution_count": null,
      "outputs": []
    },
    {
      "cell_type": "markdown",
      "source": [
        "##**split data augmentation**\n",
        "one good way to split data and pass it to `dataloader` is to use `torchvision.datasets.ImageFolder` . this function get images with their label without using any label file . `Imagefolder` assumes that all files are saved in folders ,Pictures of the same category are stored in each folder and The folder name is class name .\n",
        "\n",
        " we also use `torch.utils.data.ConcatDataset` for concatenating the new training dataset created by `transforms.RandomHorizontalFlip(p=1)` with original training dataset\n"
      ],
      "metadata": {
        "id": "pU2L70vWFG76"
      }
    },
    {
      "cell_type": "code",
      "source": [
        "#---trainig set\n",
        "all_datasets = []\n",
        "train_data_aug1 = torchvision.datasets.ImageFolder(root=config['train_data_path'], transform=train_transform1)\n",
        "all_datasets.append(train_data_aug1)\n",
        "train_data_aug2 = torchvision.datasets.ImageFolder(root=config['train_data_path'], transform=train_transform2)\n",
        "all_datasets.append(train_data_aug2)\n",
        "\n",
        "train_data_total = torch.utils.data.ConcatDataset(all_datasets)\n",
        "train_data_loader  = data.DataLoader(train_data_total, batch_size=config['batch_size'], shuffle=True, num_workers=config['num_workers']) \n",
        "\n",
        "#---test set \n",
        "test_data = torchvision.datasets.ImageFolder(root=config['test_data_path'], transform=test_transform)\n",
        "test_data_loader  = data.DataLoader(test_data, batch_size=config['batch_size'], shuffle=True, num_workers=config['num_workers']) "
      ],
      "metadata": {
        "id": "3uBMXcghFJVl"
      },
      "execution_count": null,
      "outputs": []
    },
    {
      "cell_type": "markdown",
      "source": [
        "length of train dataset before and after augmentation"
      ],
      "metadata": {
        "id": "3B0rgz-rC494"
      }
    },
    {
      "cell_type": "code",
      "source": [
        "print(f\"length of train_set before augmentation :  {len(train_data_aug1)}\")\n",
        "print(f\"length of train_set after augmentation : {len(train_data_total)}\")\n"
      ],
      "metadata": {
        "colab": {
          "base_uri": "https://localhost:8080/"
        },
        "id": "HGtuZyNt8PIB",
        "outputId": "a53a8f77-4dbc-42ac-fe74-864ff58ba07d"
      },
      "execution_count": null,
      "outputs": [
        {
          "output_type": "stream",
          "name": "stdout",
          "text": [
            "length of train_set before augmentation 2985\n",
            "length of train_set after augmentation 5970\n"
          ]
        }
      ]
    },
    {
      "cell_type": "markdown",
      "source": [
        "##**define funtions**"
      ],
      "metadata": {
        "id": "tg9Bixvw5foX"
      }
    },
    {
      "cell_type": "markdown",
      "source": [
        "* measure accuracy"
      ],
      "metadata": {
        "id": "SM1yjSEtIEWm"
      }
    },
    {
      "cell_type": "code",
      "source": [
        "def accuracy(output, target, topk=(1,)):\n",
        "    \"\"\"Computes the accuracy over the k top predictions for the specified values of k\"\"\"\n",
        "    with torch.no_grad():\n",
        "        maxk = max(topk)\n",
        "        batch_size = target.size(0)\n",
        "\n",
        "        _, pred = output.topk(maxk, 1, True, True)\n",
        "        pred = pred.t()\n",
        "        correct = pred.eq(target.reshape(1, -1).expand_as(pred))\n",
        "\n",
        "        res = []\n",
        "        for k in topk:\n",
        "            correct_k = correct[:k].reshape(-1).float().sum(0, keepdim=True)\n",
        "            res.append(correct_k.mul_(100.0 / batch_size))\n",
        "        return res"
      ],
      "metadata": {
        "id": "FknRFtzilqVp"
      },
      "execution_count": null,
      "outputs": []
    },
    {
      "cell_type": "markdown",
      "source": [
        "* train and evaluate the accuracy/loss in each epoch"
      ],
      "metadata": {
        "id": "3JS-Wg8rILcw"
      }
    },
    {
      "cell_type": "code",
      "source": [
        "def train_model(model):\n",
        "\n",
        "    total_step_test = len(test_data_loader)                    #------------------------------------\n",
        "    total_step_train = len(train_data_loader)                  #----------    train   --------------\n",
        "                                                               #------------------------------------                                        \n",
        "    loss_train=[]\n",
        "    acc1_train=[]\n",
        "    acc5_train=[]\n",
        "    #-----------------\n",
        "    loss_test=[]\n",
        "    acc1_test=[]\n",
        "    acc5_test=[]\n",
        "\n",
        "    \n",
        "    for epoch in range(config['eopches']):\n",
        "        \n",
        "        \n",
        "        sum_of_loss=0\n",
        "        sum_acc1=0\n",
        "        sum_acc5=0\n",
        "        \n",
        "        for i, (images, labels) in enumerate(train_data_loader):  \n",
        "            # Move tensors to the configured device\n",
        "            images = images.to(device)\n",
        "            labels = labels.to(device)\n",
        "            \n",
        "            #--Forward pass\n",
        "            outputs = model(images)\n",
        "            #----measure acc\n",
        "            acc1, acc5 = accuracy(outputs, labels, topk=(1, 5))\n",
        "            sum_acc1+=float(acc1)\n",
        "            sum_acc5+=float(acc5)\n",
        "            #----measure loss \n",
        "            loss = criterion(outputs, labels)\n",
        "            sum_of_loss+=float(loss)\n",
        "            #----Backward and optimize\n",
        "            optimizer.zero_grad()\n",
        "            loss.backward()\n",
        "            optimizer.step()\n",
        "        loss_of_each_epoch=float(sum_of_loss/total_step_train)\n",
        "\n",
        "        print ('Epoch [{}/{}], Step [{}/{}], Loss: {:.4f}' \n",
        "                      .format(epoch+1, config['eopches'], i+1, total_step_train ,loss_of_each_epoch))\n",
        "        \n",
        "        print('Acc@1 of train_set: {} %'.format(sum_acc1 / total_step_train )) \n",
        "\n",
        "        \n",
        "        loss_train.append(loss_of_each_epoch)\n",
        "        acc1_train.append(sum_acc1 / total_step_train)\n",
        "        acc5_train.append(sum_acc5 / total_step_train)\n",
        "\n",
        "            \n",
        "        # measure acc on test_set                #-------------------------------------\n",
        "                                                 #-------------  test  ----------------\n",
        "        with torch.no_grad():                    #-------------------------------------\n",
        "\n",
        "            sum_acc1=0\n",
        "            sum_acc5=0\n",
        "            sum_of_loss=0\n",
        "\n",
        "            for i,(images, labels) in  enumerate(test_data_loader):\n",
        "                images = images.to(device)\n",
        "                labels = labels.to(device)\n",
        "\n",
        "                # Forward pass\n",
        "                outputs = model(images)\n",
        "\n",
        "                # measure loss \n",
        "                loss = criterion(outputs, labels)\n",
        "                sum_of_loss+=float(loss)\n",
        "\n",
        "                # measure acc\n",
        "                acc1, acc5 = accuracy(outputs, labels, topk=(1, 5))\n",
        "                sum_acc1+=float(acc1)\n",
        "                sum_acc5+=float(acc5)\n",
        "\n",
        "                del images, labels, outputs\n",
        "            loss_of_each_epoch=float(sum_of_loss/total_step_test)\n",
        "\n",
        "            loss_test.append(loss_of_each_epoch)\n",
        "            acc1_test.append(sum_acc1 / total_step_test)\n",
        "            acc5_test.append(sum_acc5 / total_step_test)\n",
        "            \n",
        "            print('Acc@1 of validation_set: {} %'.format(sum_acc1 / total_step_test )) \n",
        "            print('------------------------------') \n",
        "\n",
        " \n",
        "\n",
        "    return loss_test,acc1_test,acc5_test,loss_train,acc1_train,acc5_train"
      ],
      "metadata": {
        "id": "OoJT9W5U6qXW"
      },
      "execution_count": null,
      "outputs": []
    },
    {
      "cell_type": "markdown",
      "source": [
        "* plot function for acc@1 , acc@5 and loss with respect to epoches"
      ],
      "metadata": {
        "id": "7tpMYMxKIgVo"
      }
    },
    {
      "cell_type": "code",
      "source": [
        "def acc_loss_plot(loss_test,acc1_test,acc5_test,loss_train,acc1_train,acc5_train):\n",
        "    #define horizental axis\n",
        "    x_axis=np.array([i for i in np.arange(1,51)])\n",
        "    \n",
        "    #---plot loss function for train and test set in each epoch\n",
        "    plt.plot(x_axis, loss_train,label=\"trian loss\")\n",
        "    plt.plot(x_axis, loss_test,label=\"test loss\")\n",
        "    plt.legend(loc=\"upper right\")\n",
        "    plt.xlabel(\"epoch\")\n",
        "    plt.ylabel(\"loss\")\n",
        "    plt.title(\"loss on train and test set\")\n",
        "    plt.show()\n",
        "    #--------------------------------\n",
        "\n",
        "    #---plot acc@1 for train and test set in each epoch\n",
        "    plt.plot(x_axis, acc1_train,label=\"trian accuracy\")\n",
        "    plt.plot(x_axis, acc1_test,label=\"test accuracy\")\n",
        "    plt.legend(loc=\"upper left\")\n",
        "    plt.xlabel(\"epoch\")\n",
        "    plt.ylabel(\"accuracy\")\n",
        "    plt.title(\"acc@1 on train and test set\")\n",
        "    \n",
        "    plt.show()\n",
        "\n",
        "    #---plot acc@5 for train and test set in each epoch\n",
        "    plt.plot(x_axis, acc5_train,label=\"trian accuracy\")\n",
        "    plt.plot(x_axis, acc5_test,label=\"test accuracy\")\n",
        "    plt.legend(loc=\"upper left\")\n",
        "    plt.xlabel(\"epoch\")\n",
        "    plt.ylabel(\"accuracy\")\n",
        "    plt.title(\"acc@5 on train and test set\")\n",
        "    \n",
        "    plt.show()"
      ],
      "metadata": {
        "id": "WJBrjbiJ78rW"
      },
      "execution_count": null,
      "outputs": []
    },
    {
      "cell_type": "markdown",
      "source": [
        "##**alexnet architecture**"
      ],
      "metadata": {
        "id": "_5pe73E9Srm7"
      }
    },
    {
      "cell_type": "markdown",
      "source": [
        "<tr>\n",
        "<td> <img src=\"https://miro.medium.com/max/1400/0*tp3-vrF9PiK3qtsk.png\" alt=\"Drawing\" style=\"width: 250px;\"/> </td>\n",
        "<td> <img src=\"https://www.datasciencecentral.com/wp-content/uploads/2021/10/2808365162.jpeg\" alt=\"Drawing\" style=\"width: 250px;\"/> </td>\n",
        "</tr>\n"
      ],
      "metadata": {
        "id": "WrEsJwNxJUuB"
      }
    },
    {
      "cell_type": "markdown",
      "source": [
        "###**part 1**\n",
        "`using first convolutional layer and two last fully connected layer of Alexnet architecture .` note that we use `max_pooling` layer with `kernel_size=4` and `stride=4` in first layer .\n",
        "\n",
        "*  we also add new layer\n",
        "`LocalResponseNorm(2)`  .`this operation helps us to reduce input image noises`  "
      ],
      "metadata": {
        "id": "q5FgQGpKGVwA"
      }
    },
    {
      "cell_type": "code",
      "source": [
        "class AlexNet(nn.Module):\n",
        "    def __init__(self, num_classes=15):\n",
        "        super(AlexNet, self).__init__()\n",
        "        self.layer1 = nn.Sequential(\n",
        "            nn.Conv2d(3, 96, kernel_size=11, stride=4, padding=0),\n",
        "            # nn.BatchNorm2d(96),\n",
        "            nn.LocalResponseNorm(2), #adding new additional layer\n",
        "            nn.ReLU(),\n",
        "            nn.MaxPool2d(kernel_size = 4, stride = 4))\n",
        "        self.fc1 = nn.Sequential(\n",
        "            nn.Dropout(0.5),\n",
        "            nn.Linear(16224, 4096),\n",
        "            nn.ReLU())\n",
        "        self.fc2= nn.Sequential(\n",
        "            nn.Linear(4096, num_classes))\n",
        "        \n",
        "    def forward(self, x):\n",
        "        out = self.layer1(x)\n",
        "        out = out.reshape(out.size(0), -1)\n",
        "        out = self.fc1(out)\n",
        "        out = self.fc2(out)\n",
        "        return out"
      ],
      "metadata": {
        "id": "cp9HGMWVGfa0"
      },
      "execution_count": null,
      "outputs": []
    },
    {
      "cell_type": "markdown",
      "source": [
        "###**load model and optimizer**"
      ],
      "metadata": {
        "id": "jKd3rJOPWlwR"
      }
    },
    {
      "cell_type": "code",
      "source": [
        "#load the model\n",
        "model = AlexNet(config['num_classes']).to(device)\n",
        "\n",
        "\n",
        "# Loss and optimizer\n",
        "criterion = nn.CrossEntropyLoss()\n",
        "optimizer = torch.optim.SGD(model.parameters(), lr=config['learning_rate'], momentum = 0.9)  "
      ],
      "metadata": {
        "id": "nj_pvkqNWrk-"
      },
      "execution_count": null,
      "outputs": []
    },
    {
      "cell_type": "markdown",
      "source": [
        "###**train the model**"
      ],
      "metadata": {
        "id": "hCPlzDS7XxYy"
      }
    },
    {
      "cell_type": "code",
      "source": [
        "loss_te,acc1_te,acc5_te,loss_tr,acc1_tr,acc5_tr=train_model(model)"
      ],
      "metadata": {
        "colab": {
          "base_uri": "https://localhost:8080/"
        },
        "id": "zBl3trjxX0Xy",
        "outputId": "2d3a716d-8263-4647-8947-ad6506038471"
      },
      "execution_count": null,
      "outputs": [
        {
          "output_type": "stream",
          "name": "stdout",
          "text": [
            "Epoch [1/50], Step [94/94], Loss: 2.4408\n",
            "Acc@1 of train_set: 21.579491716750123 %\n",
            "Acc@1 of validation_set: 26.609002987543743 %\n",
            "------------------------------\n",
            "Epoch [2/50], Step [94/94], Loss: 2.0789\n",
            "Acc@1 of train_set: 34.73330375996042 %\n",
            "Acc@1 of validation_set: 33.658854166666664 %\n",
            "------------------------------\n",
            "Epoch [3/50], Step [94/94], Loss: 1.8603\n",
            "Acc@1 of train_set: 41.14952716421574 %\n",
            "Acc@1 of validation_set: 41.19233624140421 %\n",
            "------------------------------\n",
            "Epoch [4/50], Step [94/94], Loss: 1.6916\n",
            "Acc@1 of train_set: 45.9164450219337 %\n",
            "Acc@1 of validation_set: 40.243675549825035 %\n",
            "------------------------------\n",
            "Epoch [5/50], Step [94/94], Loss: 1.5250\n",
            "Acc@1 of train_set: 52.16275113694211 %\n",
            "Acc@1 of validation_set: 46.316964308420815 %\n",
            "------------------------------\n",
            "Epoch [6/50], Step [94/94], Loss: 1.3676\n",
            "Acc@1 of train_set: 56.399601063829785 %\n",
            "Acc@1 of validation_set: 47.24702374140421 %\n",
            "------------------------------\n",
            "Epoch [7/50], Step [94/94], Loss: 1.2835\n",
            "Acc@1 of train_set: 58.444148936170215 %\n",
            "Acc@1 of validation_set: 50.474330266316734 %\n",
            "------------------------------\n",
            "Epoch [8/50], Step [94/94], Loss: 1.1830\n",
            "Acc@1 of train_set: 61.88682028587828 %\n",
            "Acc@1 of validation_set: 51.42299111684164 %\n",
            "------------------------------\n",
            "Epoch [9/50], Step [94/94], Loss: 1.1036\n",
            "Acc@1 of train_set: 65.24638001462246 %\n",
            "Acc@1 of validation_set: 54.13876485824585 %\n",
            "------------------------------\n",
            "Epoch [10/50], Step [94/94], Loss: 1.0350\n",
            "Acc@1 of train_set: 66.92708327922415 %\n",
            "Acc@1 of validation_set: 53.49702390034994 %\n",
            "------------------------------\n",
            "Epoch [11/50], Step [94/94], Loss: 0.9562\n",
            "Acc@1 of train_set: 69.18587469547353 %\n",
            "Acc@1 of validation_set: 54.947916666666664 %\n",
            "------------------------------\n",
            "Epoch [12/50], Step [94/94], Loss: 0.9099\n",
            "Acc@1 of train_set: 70.54521276595744 %\n",
            "Acc@1 of validation_set: 52.8831844329834 %\n",
            "------------------------------\n",
            "Epoch [13/50], Step [94/94], Loss: 0.8545\n",
            "Acc@1 of train_set: 72.43461876727164 %\n",
            "Acc@1 of validation_set: 55.357142766316734 %\n",
            "------------------------------\n",
            "Epoch [14/50], Step [94/94], Loss: 0.8019\n",
            "Acc@1 of train_set: 74.32402476858586 %\n",
            "Acc@1 of validation_set: 56.5662202835083 %\n",
            "------------------------------\n",
            "Epoch [15/50], Step [94/94], Loss: 0.7662\n",
            "Acc@1 of train_set: 75.07572397272638 %\n",
            "Acc@1 of validation_set: 55.1990327835083 %\n",
            "------------------------------\n",
            "Epoch [16/50], Step [94/94], Loss: 0.7150\n",
            "Acc@1 of train_set: 77.3123522007719 %\n",
            "Acc@1 of validation_set: 57.65438985824585 %\n",
            "------------------------------\n",
            "Epoch [17/50], Step [94/94], Loss: 0.6730\n",
            "Acc@1 of train_set: 78.01418434305394 %\n",
            "Acc@1 of validation_set: 59.97953859965006 %\n",
            "------------------------------\n",
            "Epoch [18/50], Step [94/94], Loss: 0.6459\n",
            "Acc@1 of train_set: 78.73633267017121 %\n",
            "Acc@1 of validation_set: 59.244791666666664 %\n",
            "------------------------------\n",
            "Epoch [19/50], Step [94/94], Loss: 0.6016\n",
            "Acc@1 of train_set: 80.81597218614944 %\n",
            "Acc@1 of validation_set: 59.579613049825035 %\n",
            "------------------------------\n",
            "Epoch [20/50], Step [94/94], Loss: 0.5719\n",
            "Acc@1 of train_set: 81.70434391752202 %\n",
            "Acc@1 of validation_set: 58.212425549825035 %\n",
            "------------------------------\n",
            "Epoch [21/50], Step [94/94], Loss: 0.5418\n",
            "Acc@1 of train_set: 82.75155136433054 %\n",
            "Acc@1 of validation_set: 58.24032735824585 %\n",
            "------------------------------\n",
            "Epoch [22/50], Step [94/94], Loss: 0.5180\n",
            "Acc@1 of train_set: 83.42383267017121 %\n",
            "Acc@1 of validation_set: 58.0078125 %\n",
            "------------------------------\n",
            "Epoch [23/50], Step [94/94], Loss: 0.4834\n",
            "Acc@1 of train_set: 85.0361996914478 %\n",
            "Acc@1 of validation_set: 60.184151808420815 %\n",
            "------------------------------\n",
            "Epoch [24/50], Step [94/94], Loss: 0.4702\n",
            "Acc@1 of train_set: 85.37788115156458 %\n",
            "Acc@1 of validation_set: 60.0818452835083 %\n",
            "------------------------------\n",
            "Epoch [25/50], Step [94/94], Loss: 0.4194\n",
            "Acc@1 of train_set: 87.08259452657497 %\n",
            "Acc@1 of validation_set: 59.99813985824585 %\n",
            "------------------------------\n",
            "Epoch [26/50], Step [94/94], Loss: 0.4068\n",
            "Acc@1 of train_set: 87.0068705132667 %\n",
            "Acc@1 of validation_set: 61.039806524912514 %\n",
            "------------------------------\n",
            "Epoch [27/50], Step [94/94], Loss: 0.3966\n",
            "Acc@1 of train_set: 87.74748814359624 %\n",
            "Acc@1 of validation_set: 61.18861611684164 %\n",
            "------------------------------\n",
            "Epoch [28/50], Step [94/94], Loss: 0.3613\n",
            "Acc@1 of train_set: 88.87041960371302 %\n",
            "Acc@1 of validation_set: 60.4259672164917 %\n",
            "------------------------------\n",
            "Epoch [29/50], Step [94/94], Loss: 0.3557\n",
            "Acc@1 of train_set: 88.80947096804356 %\n",
            "Acc@1 of validation_set: 61.235119024912514 %\n",
            "------------------------------\n",
            "Epoch [30/50], Step [94/94], Loss: 0.3258\n",
            "Acc@1 of train_set: 90.57143905314993 %\n",
            "Acc@1 of validation_set: 62.118675549825035 %\n",
            "------------------------------\n",
            "Epoch [31/50], Step [94/94], Loss: 0.3126\n",
            "Acc@1 of train_set: 90.12448282444731 %\n",
            "Acc@1 of validation_set: 59.114583333333336 %\n",
            "------------------------------\n",
            "Epoch [32/50], Step [94/94], Loss: 0.3050\n",
            "Acc@1 of train_set: 90.69703008773479 %\n",
            "Acc@1 of validation_set: 61.653645833333336 %\n",
            "------------------------------\n",
            "Epoch [33/50], Step [94/94], Loss: 0.3011\n",
            "Acc@1 of train_set: 90.67302005848985 %\n",
            "Acc@1 of validation_set: 60.416666666666664 %\n",
            "------------------------------\n",
            "Epoch [34/50], Step [94/94], Loss: 0.2681\n",
            "Acc@1 of train_set: 92.37588647071351 %\n",
            "Acc@1 of validation_set: 60.128348191579185 %\n",
            "------------------------------\n",
            "Epoch [35/50], Step [94/94], Loss: 0.2500\n",
            "Acc@1 of train_set: 92.62706853988323 %\n",
            "Acc@1 of validation_set: 60.928199450174965 %\n",
            "------------------------------\n",
            "Epoch [36/50], Step [94/94], Loss: 0.2492\n",
            "Acc@1 of train_set: 92.70094559040476 %\n",
            "Acc@1 of validation_set: 61.607142766316734 %\n",
            "------------------------------\n",
            "Epoch [37/50], Step [94/94], Loss: 0.2186\n",
            "Acc@1 of train_set: 93.68351063829788 %\n",
            "Acc@1 of validation_set: 57.505580266316734 %\n",
            "------------------------------\n",
            "Epoch [38/50], Step [94/94], Loss: 0.2267\n",
            "Acc@1 of train_set: 93.36768617021276 %\n",
            "Acc@1 of validation_set: 59.672619024912514 %\n",
            "------------------------------\n",
            "Epoch [39/50], Step [94/94], Loss: 0.2083\n",
            "Acc@1 of train_set: 94.22096625794755 %\n",
            "Acc@1 of validation_set: 61.197916666666664 %\n",
            "------------------------------\n",
            "Epoch [40/50], Step [94/94], Loss: 0.2030\n",
            "Acc@1 of train_set: 93.83126473934092 %\n",
            "Acc@1 of validation_set: 60.7421875 %\n",
            "------------------------------\n",
            "Epoch [41/50], Step [94/94], Loss: 0.1868\n",
            "Acc@1 of train_set: 94.9117168670005 %\n",
            "Acc@1 of validation_set: 61.709449450174965 %\n",
            "------------------------------\n",
            "Epoch [42/50], Step [94/94], Loss: 0.1801\n",
            "Acc@1 of train_set: 95.07055258243642 %\n",
            "Acc@1 of validation_set: 59.66331831614176 %\n",
            "------------------------------\n",
            "Epoch [43/50], Step [94/94], Loss: 0.1710\n",
            "Acc@1 of train_set: 95.13704194413855 %\n",
            "Acc@1 of validation_set: 60.3794641494751 %\n",
            "------------------------------\n",
            "Epoch [44/50], Step [94/94], Loss: 0.1593\n",
            "Acc@1 of train_set: 95.56183510638297 %\n",
            "Acc@1 of validation_set: 60.6677827835083 %\n",
            "------------------------------\n",
            "Epoch [45/50], Step [94/94], Loss: 0.1460\n",
            "Acc@1 of train_set: 96.02726063829788 %\n",
            "Acc@1 of validation_set: 61.337425549825035 %\n",
            "------------------------------\n",
            "Epoch [46/50], Step [94/94], Loss: 0.1602\n",
            "Acc@1 of train_set: 95.79454787234043 %\n",
            "Acc@1 of validation_set: 63.411458333333336 %\n",
            "------------------------------\n",
            "Epoch [47/50], Step [94/94], Loss: 0.1519\n",
            "Acc@1 of train_set: 95.80193556115982 %\n",
            "Acc@1 of validation_set: 61.104910691579185 %\n",
            "------------------------------\n",
            "Epoch [48/50], Step [94/94], Loss: 0.1372\n",
            "Acc@1 of train_set: 96.21749407179813 %\n",
            "Acc@1 of validation_set: 58.96577374140421 %\n",
            "------------------------------\n",
            "Epoch [49/50], Step [94/94], Loss: 0.1235\n",
            "Acc@1 of train_set: 96.94887705052153 %\n",
            "Acc@1 of validation_set: 59.598214308420815 %\n",
            "------------------------------\n",
            "Epoch [50/50], Step [94/94], Loss: 0.1205\n",
            "Acc@1 of train_set: 97.12433510638297 %\n",
            "Acc@1 of validation_set: 62.36049111684164 %\n",
            "------------------------------\n"
          ]
        }
      ]
    },
    {
      "cell_type": "markdown",
      "source": [
        "##**plot loss and accuracy**"
      ],
      "metadata": {
        "id": "WcwuuawSx6c2"
      }
    },
    {
      "cell_type": "code",
      "source": [
        "acc_loss_plot(loss_te,acc1_te,acc5_te,loss_tr,acc1_tr,acc5_tr)"
      ],
      "metadata": {
        "colab": {
          "base_uri": "https://localhost:8080/",
          "height": 851
        },
        "id": "W2iKx8uAx8n_",
        "outputId": "006b45b3-55d1-4761-b5bf-c37c4eafccc6"
      },
      "execution_count": null,
      "outputs": [
        {
          "output_type": "display_data",
          "data": {
            "text/plain": [
              "<Figure size 432x288 with 1 Axes>"
            ],
            "image/png": "[encoded data removed]"
          },
          "metadata": {
            "needs_background": "light"
          }
        },
        {
          "output_type": "display_data",
          "data": {
            "text/plain": [
              "<Figure size 432x288 with 1 Axes>"
            ],
            "image/png": "[encoded data removed]"
          },
          "metadata": {
            "needs_background": "light"
          }
        },
        {
          "output_type": "display_data",
          "data": {
            "text/plain": [
              "<Figure size 432x288 with 1 Axes>"
            ],
            "image/png": "[encoded data removed]"
          },
          "metadata": {
            "needs_background": "light"
          }
        }
      ]
    },
    {
      "cell_type": "markdown",
      "source": [
        "$Results  : $\n",
        "\n",
        "$maximum \\ acc@1 \\  on \\  test \\ set \\ converges \\  to  \\ : \\ 63.4  $%\n",
        "\n",
        "$maximum \\ acc@5 \\  on \\  test \\ set \\ converges \\  to  \\ : \\ 93  $%\n",
        "\n",
        "\n",
        "$maximum \\ acc@1 \\  on \\  trian \\ set \\ converges \\  to  \\ : \\ 100  $%\n",
        "\n",
        "$maximum \\ acc@5 \\  on \\  train \\ set \\ converges \\  to  \\ : \\ 97.2  $%\n",
        "\n",
        "---\n",
        "$conclusions  : $\n",
        "\n",
        "as we can see there is no overfiting in training model . there is a gap between test loss and train loss after some epoches as we expected. \n",
        "also the curve of acc@1-vs-epoch Meet our expectations because there is a gap between test's acc@1 and train's acc@1 over epoches.\n",
        "\n"
      ],
      "metadata": {
        "id": "HkWmeNJYMNpy"
      }
    },
    {
      "cell_type": "markdown",
      "source": [
        "###**part 2**\n",
        "`using three first convolutional layer and three last fully connected layer of Alexnet arcitecture` . in the `third  layer` , we change the conv2d layer with depth of `384 to 256 .` \n",
        "\n",
        "* we also add new layer\n",
        "`LocalResponseNorm(2)`  .`this operation helps us to reduce input image noises`  "
      ],
      "metadata": {
        "id": "d_5FAjip2QLw"
      }
    },
    {
      "cell_type": "code",
      "source": [
        "class AlexNet(nn.Module):\n",
        "    def __init__(self, num_classes=15):\n",
        "        super(AlexNet, self).__init__()\n",
        "        self.layer1 = nn.Sequential(\n",
        "            nn.Conv2d(3, 96, kernel_size=11, stride=4, padding=0),\n",
        "            # nn.BatchNorm2d(96),\n",
        "            nn.LocalResponseNorm(2), #adding new additional layer\n",
        "            nn.ReLU(),\n",
        "            nn.MaxPool2d(kernel_size = 3, stride = 2))\n",
        "        self.layer2 = nn.Sequential(\n",
        "            nn.Conv2d(96, 256, kernel_size=5, stride=1, padding=2),\n",
        "            nn.BatchNorm2d(256),\n",
        "            nn.ReLU(),\n",
        "            nn.MaxPool2d(kernel_size = 3, stride = 2))\n",
        "        self.layer3 = nn.Sequential(\n",
        "            nn.Conv2d(256, 256, kernel_size=3, stride=1, padding=1),\n",
        "            nn.BatchNorm2d(256),\n",
        "            nn.ReLU(),\n",
        "            nn.MaxPool2d(kernel_size = 2, stride = 2))\n",
        "        self.fc = nn.Sequential(\n",
        "            nn.Dropout(0.5),\n",
        "            nn.Linear(9216, 4096),\n",
        "            nn.ReLU())\n",
        "        self.fc1 = nn.Sequential(\n",
        "            nn.Dropout(0.5),\n",
        "            nn.Linear(4096, 4096),\n",
        "            nn.ReLU())\n",
        "        self.fc2= nn.Sequential(\n",
        "            nn.Linear(4096, num_classes))\n",
        "        \n",
        "    def forward(self, x):\n",
        "        out = self.layer1(x)\n",
        "        out = self.layer2(out)\n",
        "        out = self.layer3(out)\n",
        "        out = out.reshape(out.size(0), -1)\n",
        "        out = self.fc(out)\n",
        "        out = self.fc1(out)\n",
        "        out = self.fc2(out)\n",
        "        return out"
      ],
      "metadata": {
        "id": "6tLJG8Hy2kg1"
      },
      "execution_count": null,
      "outputs": []
    },
    {
      "cell_type": "markdown",
      "source": [
        "###**load model**"
      ],
      "metadata": {
        "id": "eVoVlqC-EFw7"
      }
    },
    {
      "cell_type": "code",
      "source": [
        "#load the model\n",
        "model = AlexNet(config['num_classes']).to(device)\n",
        "\n",
        "\n",
        "# Loss and optimizer\n",
        "criterion = nn.CrossEntropyLoss()\n",
        "optimizer = torch.optim.SGD(model.parameters(), lr=config['learning_rate'], momentum = 0.9)  "
      ],
      "metadata": {
        "id": "vYbq9z1u3QeS"
      },
      "execution_count": null,
      "outputs": []
    },
    {
      "cell_type": "markdown",
      "source": [
        "###**train model**"
      ],
      "metadata": {
        "id": "Xe1AliS8EiC7"
      }
    },
    {
      "cell_type": "code",
      "source": [
        "loss_te,acc1_te,acc5_te,loss_tr,acc1_tr,acc5_tr=train_model(model)"
      ],
      "metadata": {
        "colab": {
          "base_uri": "https://localhost:8080/"
        },
        "id": "SNVQDnS53Vwg",
        "outputId": "bc939ad6-4976-4ea2-9e70-f29e9811cef8"
      },
      "execution_count": null,
      "outputs": [
        {
          "output_type": "stream",
          "name": "stdout",
          "text": [
            "Epoch [1/50], Step [94/94], Loss: 2.5756\n",
            "Acc@1 of train_set: 15.63608155352004 %\n",
            "Acc@1 of validation_set: 20.5078125 %\n",
            "------------------------------\n",
            "Epoch [2/50], Step [94/94], Loss: 2.2731\n",
            "Acc@1 of train_set: 27.53767729820089 %\n",
            "Acc@1 of validation_set: 26.255580345789593 %\n",
            "------------------------------\n",
            "Epoch [3/50], Step [94/94], Loss: 1.9399\n",
            "Acc@1 of train_set: 38.43454490823949 %\n",
            "Acc@1 of validation_set: 36.811755975087486 %\n",
            "------------------------------\n",
            "Epoch [4/50], Step [94/94], Loss: 1.6096\n",
            "Acc@1 of train_set: 47.51588354719446 %\n",
            "Acc@1 of validation_set: 44.614955266316734 %\n",
            "------------------------------\n",
            "Epoch [5/50], Step [94/94], Loss: 1.3664\n",
            "Acc@1 of train_set: 54.77061170212766 %\n",
            "Acc@1 of validation_set: 53.385416666666664 %\n",
            "------------------------------\n",
            "Epoch [6/50], Step [94/94], Loss: 1.2147\n",
            "Acc@1 of train_set: 59.801640043867394 %\n",
            "Acc@1 of validation_set: 53.450520833333336 %\n",
            "------------------------------\n",
            "Epoch [7/50], Step [94/94], Loss: 1.0837\n",
            "Acc@1 of train_set: 63.534278950792675 %\n",
            "Acc@1 of validation_set: 58.686755975087486 %\n",
            "------------------------------\n",
            "Epoch [8/50], Step [94/94], Loss: 0.9795\n",
            "Acc@1 of train_set: 66.58909574468085 %\n",
            "Acc@1 of validation_set: 62.48139890034994 %\n",
            "------------------------------\n",
            "Epoch [9/50], Step [94/94], Loss: 0.9069\n",
            "Acc@1 of train_set: 69.5608007552776 %\n",
            "Acc@1 of validation_set: 59.812127908070885 %\n",
            "------------------------------\n",
            "Epoch [10/50], Step [94/94], Loss: 0.8510\n",
            "Acc@1 of train_set: 70.82409862761801 %\n",
            "Acc@1 of validation_set: 64.84375 %\n",
            "------------------------------\n",
            "Epoch [11/50], Step [94/94], Loss: 0.7959\n",
            "Acc@1 of train_set: 73.75701831249481 %\n",
            "Acc@1 of validation_set: 67.28050581614177 %\n",
            "------------------------------\n",
            "Epoch [12/50], Step [94/94], Loss: 0.7517\n",
            "Acc@1 of train_set: 74.38866724866502 %\n",
            "Acc@1 of validation_set: 68.14546140034993 %\n",
            "------------------------------\n",
            "Epoch [13/50], Step [94/94], Loss: 0.7239\n",
            "Acc@1 of train_set: 75.10527476858586 %\n",
            "Acc@1 of validation_set: 66.18303553263347 %\n",
            "------------------------------\n",
            "Epoch [14/50], Step [94/94], Loss: 0.6841\n",
            "Acc@1 of train_set: 77.22924049864424 %\n",
            "Acc@1 of validation_set: 66.02492554982503 %\n",
            "------------------------------\n",
            "Epoch [15/50], Step [94/94], Loss: 0.6723\n",
            "Acc@1 of train_set: 77.07409862761801 %\n",
            "Acc@1 of validation_set: 68.91741069157918 %\n",
            "------------------------------\n",
            "Epoch [16/50], Step [94/94], Loss: 0.6220\n",
            "Acc@1 of train_set: 78.79174049864424 %\n",
            "Acc@1 of validation_set: 69.74516359965007 %\n",
            "------------------------------\n",
            "Epoch [17/50], Step [94/94], Loss: 0.5793\n",
            "Acc@1 of train_set: 80.61281025663335 %\n",
            "Acc@1 of validation_set: 68.20126485824585 %\n",
            "------------------------------\n",
            "Epoch [18/50], Step [94/94], Loss: 0.5571\n",
            "Acc@1 of train_set: 80.78457446808511 %\n",
            "Acc@1 of validation_set: 67.98735109965007 %\n",
            "------------------------------\n",
            "Epoch [19/50], Step [94/94], Loss: 0.5246\n",
            "Acc@1 of train_set: 82.1106677765542 %\n",
            "Acc@1 of validation_set: 66.9921875 %\n",
            "------------------------------\n",
            "Epoch [20/50], Step [94/94], Loss: 0.5057\n",
            "Acc@1 of train_set: 82.94917256781396 %\n",
            "Acc@1 of validation_set: 67.82924111684163 %\n",
            "------------------------------\n",
            "Epoch [21/50], Step [94/94], Loss: 0.4868\n",
            "Acc@1 of train_set: 82.7275413350856 %\n",
            "Acc@1 of validation_set: 68.88020833333333 %\n",
            "------------------------------\n",
            "Epoch [22/50], Step [94/94], Loss: 0.4516\n",
            "Acc@1 of train_set: 84.36391838560714 %\n",
            "Acc@1 of validation_set: 68.91741053263347 %\n",
            "------------------------------\n",
            "Epoch [23/50], Step [94/94], Loss: 0.4390\n",
            "Acc@1 of train_set: 84.67604900928254 %\n",
            "Acc@1 of validation_set: 70.78683026631673 %\n",
            "------------------------------\n",
            "Epoch [24/50], Step [94/94], Loss: 0.3987\n",
            "Acc@1 of train_set: 86.23854900928254 %\n",
            "Acc@1 of validation_set: 72.37723223368327 %\n",
            "------------------------------\n",
            "Epoch [25/50], Step [94/94], Loss: 0.4013\n",
            "Acc@1 of train_set: 86.2256205132667 %\n",
            "Acc@1 of validation_set: 70.10788695017497 %\n",
            "------------------------------\n",
            "Epoch [26/50], Step [94/94], Loss: 0.3849\n",
            "Acc@1 of train_set: 87.35593966220287 %\n",
            "Acc@1 of validation_set: 70.99144331614177 %\n",
            "------------------------------\n",
            "Epoch [27/50], Step [94/94], Loss: 0.3503\n",
            "Acc@1 of train_set: 88.1852098018565 %\n",
            "Acc@1 of validation_set: 72.49813969930013 %\n",
            "------------------------------\n",
            "Epoch [28/50], Step [94/94], Loss: 0.3444\n",
            "Acc@1 of train_set: 88.11872044015438 %\n",
            "Acc@1 of validation_set: 71.59598223368327 %\n",
            "------------------------------\n",
            "Epoch [29/50], Step [94/94], Loss: 0.3160\n",
            "Acc@1 of train_set: 89.46882385903217 %\n",
            "Acc@1 of validation_set: 72.24702374140422 %\n",
            "------------------------------\n",
            "Epoch [30/50], Step [94/94], Loss: 0.2888\n",
            "Acc@1 of train_set: 90.44215425531915 %\n",
            "Acc@1 of validation_set: 71.86569945017497 %\n",
            "------------------------------\n",
            "Epoch [31/50], Step [94/94], Loss: 0.2949\n",
            "Acc@1 of train_set: 90.12263586166057 %\n",
            "Acc@1 of validation_set: 70.5543155670166 %\n",
            "------------------------------\n",
            "Epoch [32/50], Step [94/94], Loss: 0.2752\n",
            "Acc@1 of train_set: 90.82262112231965 %\n",
            "Acc@1 of validation_set: 73.0933780670166 %\n",
            "------------------------------\n",
            "Epoch [33/50], Step [94/94], Loss: 0.2568\n",
            "Acc@1 of train_set: 91.96032796007522 %\n",
            "Acc@1 of validation_set: 69.94047609965007 %\n",
            "------------------------------\n",
            "Epoch [34/50], Step [94/94], Loss: 0.2531\n",
            "Acc@1 of train_set: 91.31205668347947 %\n",
            "Acc@1 of validation_set: 71.47507445017497 %\n",
            "------------------------------\n",
            "Epoch [35/50], Step [94/94], Loss: 0.2415\n",
            "Acc@1 of train_set: 92.2521423989154 %\n",
            "Acc@1 of validation_set: 70.09858640034993 %\n",
            "------------------------------\n",
            "Epoch [36/50], Step [94/94], Loss: 0.2036\n",
            "Acc@1 of train_set: 93.3418291781811 %\n",
            "Acc@1 of validation_set: 73.37239583333333 %\n",
            "------------------------------\n",
            "Epoch [37/50], Step [94/94], Loss: 0.1938\n",
            "Acc@1 of train_set: 93.49881793083028 %\n",
            "Acc@1 of validation_set: 70.13578859965007 %\n",
            "------------------------------\n",
            "Epoch [38/50], Step [94/94], Loss: 0.2088\n",
            "Acc@1 of train_set: 93.34736990421376 %\n",
            "Acc@1 of validation_set: 73.05617554982503 %\n",
            "------------------------------\n",
            "Epoch [39/50], Step [94/94], Loss: 0.2142\n",
            "Acc@1 of train_set: 93.17375881113905 %\n",
            "Acc@1 of validation_set: 73.00967248280843 %\n",
            "------------------------------\n",
            "Epoch [40/50], Step [94/94], Loss: 0.1901\n",
            "Acc@1 of train_set: 93.61702127659575 %\n",
            "Acc@1 of validation_set: 73.6607141494751 %\n",
            "------------------------------\n",
            "Epoch [41/50], Step [94/94], Loss: 0.1562\n",
            "Acc@1 of train_set: 95.49534574468085 %\n",
            "Acc@1 of validation_set: 72.98177083333333 %\n",
            "------------------------------\n",
            "Epoch [42/50], Step [94/94], Loss: 0.1630\n",
            "Acc@1 of train_set: 94.89694148936171 %\n",
            "Acc@1 of validation_set: 72.1168155670166 %\n",
            "------------------------------\n",
            "Epoch [43/50], Step [94/94], Loss: 0.1417\n",
            "Acc@1 of train_set: 95.66895683775557 %\n",
            "Acc@1 of validation_set: 71.29836304982503 %\n",
            "------------------------------\n",
            "Epoch [44/50], Step [94/94], Loss: 0.1482\n",
            "Acc@1 of train_set: 94.97820622870263 %\n",
            "Acc@1 of validation_set: 73.91183026631673 %\n",
            "------------------------------\n",
            "Epoch [45/50], Step [94/94], Loss: 0.1433\n",
            "Acc@1 of train_set: 95.60246747605343 %\n",
            "Acc@1 of validation_set: 72.59114583333333 %\n",
            "------------------------------\n",
            "Epoch [46/50], Step [94/94], Loss: 0.1170\n",
            "Acc@1 of train_set: 96.67553191489361 %\n",
            "Acc@1 of validation_set: 72.66555054982503 %\n",
            "------------------------------\n",
            "Epoch [47/50], Step [94/94], Loss: 0.1194\n",
            "Acc@1 of train_set: 96.35047279520238 %\n",
            "Acc@1 of validation_set: 71.69828859965007 %\n",
            "------------------------------\n",
            "Epoch [48/50], Step [94/94], Loss: 0.1249\n",
            "Acc@1 of train_set: 95.83518024201089 %\n",
            "Acc@1 of validation_set: 72.54464276631673 %\n",
            "------------------------------\n",
            "Epoch [49/50], Step [94/94], Loss: 0.1130\n",
            "Acc@1 of train_set: 96.61458327922415 %\n",
            "Acc@1 of validation_set: 73.18638388315837 %\n",
            "------------------------------\n",
            "Epoch [50/50], Step [94/94], Loss: 0.0998\n",
            "Acc@1 of train_set: 97.27393617021276 %\n",
            "Acc@1 of validation_set: 72.05171140034993 %\n",
            "------------------------------\n"
          ]
        }
      ]
    },
    {
      "cell_type": "markdown",
      "source": [
        "###**plot loss and accuracy**"
      ],
      "metadata": {
        "id": "NSK7r3MIEnqb"
      }
    },
    {
      "cell_type": "code",
      "source": [
        "acc_loss_plot(loss_te,acc1_te,acc5_te,loss_tr,acc1_tr,acc5_tr)"
      ],
      "metadata": {
        "id": "NzUqGA247IKt",
        "colab": {
          "base_uri": "https://localhost:8080/",
          "height": 851
        },
        "outputId": "1006fb61-90de-4266-dde3-0c5eefc417de"
      },
      "execution_count": null,
      "outputs": [
        {
          "output_type": "display_data",
          "data": {
            "text/plain": [
              "<Figure size 432x288 with 1 Axes>"
            ],
            "image/png": "[encoded data removed]"
          },
          "metadata": {
            "needs_background": "light"
          }
        },
        {
          "output_type": "display_data",
          "data": {
            "text/plain": [
              "<Figure size 432x288 with 1 Axes>"
            ],
            "image/png": "[encoded data removed]"
          },
          "metadata": {
            "needs_background": "light"
          }
        },
        {
          "output_type": "display_data",
          "data": {
            "text/plain": [
              "<Figure size 432x288 with 1 Axes>"
            ],
            "image/png": "[encoded data removed]"
          },
          "metadata": {
            "needs_background": "light"
          }
        }
      ]
    },
    {
      "cell_type": "markdown",
      "source": [
        "$Results  : $\n",
        "\n",
        "\n",
        "$maximum \\ acc@1 \\  on \\  test \\ set \\ converges \\  to  \\ : \\ 73.91  $%\n",
        "\n",
        "$maximum \\ acc@5 \\  on \\  test \\ set \\ converges \\  to  \\ : \\ 93.5  $%\n",
        "\n",
        "\n",
        "$maximum \\ acc@1 \\  on \\  trian \\ set \\ converges \\  to  \\ : \\ 97.27  $%\n",
        "\n",
        "$maximum \\ acc@5 \\  on \\  train \\ set \\ converges \\  to  \\ : \\ 100  $%\n",
        "\n",
        "\n",
        "---\n",
        "\n",
        "$conclusions  : $\n",
        "\n",
        "as we can see there is no overfiting in training model , in addition the curve of loss-vs-epoch  Meet our expectations because at first , loss of test is bigger than train and over epoches , the train loss becomes less and less but test loss becomes approximately constant after the 20th epoch . there is also a gap between test loss and train loss after some epoches. \n",
        "also the curve of acc@1-vs-epoch  Meet our expectations because there is a gap between test's acc@1 and train's acc@1 over epoches."
      ],
      "metadata": {
        "id": "n7cg0nTtNqTM"
      }
    },
    {
      "cell_type": "markdown",
      "source": [
        "###**part 3**\n",
        "\n",
        "\n",
        "whole alexnet arcitecture without using trained weights"
      ],
      "metadata": {
        "id": "sZDdCZqkE5PJ"
      }
    },
    {
      "cell_type": "code",
      "source": [
        "class AlexNet(nn.Module):\n",
        "    def __init__(self, num_classes=15):\n",
        "        super(AlexNet, self).__init__()\n",
        "        self.layer1 = nn.Sequential(\n",
        "            nn.Conv2d(3, 96, kernel_size=11, stride=4, padding=0),\n",
        "            nn.BatchNorm2d(96),\n",
        "            nn.ReLU(),\n",
        "            nn.MaxPool2d(kernel_size = 3, stride = 2))\n",
        "        self.layer2 = nn.Sequential(\n",
        "            nn.Conv2d(96, 256, kernel_size=5, stride=1, padding=2),\n",
        "            nn.BatchNorm2d(256),\n",
        "            nn.ReLU(),\n",
        "            nn.MaxPool2d(kernel_size = 3, stride = 2))\n",
        "        self.layer3 = nn.Sequential(\n",
        "            nn.Conv2d(256, 384, kernel_size=3, stride=1, padding=1),\n",
        "            nn.BatchNorm2d(384),\n",
        "            nn.ReLU())\n",
        "        self.layer4 = nn.Sequential(\n",
        "            nn.Conv2d(384, 384, kernel_size=3, stride=1, padding=1),\n",
        "            nn.BatchNorm2d(384),\n",
        "            nn.ReLU())\n",
        "        self.layer5 = nn.Sequential(\n",
        "            nn.Conv2d(384, 256, kernel_size=3, stride=1, padding=1),\n",
        "            nn.BatchNorm2d(256),\n",
        "            nn.ReLU(),\n",
        "            nn.MaxPool2d(kernel_size = 3, stride = 2))\n",
        "        self.fc = nn.Sequential(\n",
        "            nn.Dropout(0.5),\n",
        "            nn.Linear(9216, 4096),\n",
        "            nn.ReLU())\n",
        "        self.fc1 = nn.Sequential(\n",
        "            nn.Dropout(0.5),\n",
        "            nn.Linear(4096, 4096),\n",
        "            nn.ReLU())\n",
        "        self.fc2= nn.Sequential(\n",
        "            nn.Linear(4096, num_classes))\n",
        "        \n",
        "    def forward(self, x):\n",
        "        out = self.layer1(x)\n",
        "        out = self.layer2(out)\n",
        "        out = self.layer3(out)\n",
        "        out = self.layer4(out)\n",
        "        out = self.layer5(out)\n",
        "        out = out.reshape(out.size(0), -1)\n",
        "        out = self.fc(out)\n",
        "        out = self.fc1(out)\n",
        "        out = self.fc2(out)\n",
        "        return out"
      ],
      "metadata": {
        "id": "vfbbmIi0FJJx"
      },
      "execution_count": null,
      "outputs": []
    },
    {
      "cell_type": "markdown",
      "source": [
        "###**load model**"
      ],
      "metadata": {
        "id": "sQz11HyqFUtL"
      }
    },
    {
      "cell_type": "code",
      "source": [
        "#load the model\n",
        "model = AlexNet(config['num_classes']).to(device)\n",
        "\n",
        "\n",
        "# Loss and optimizer\n",
        "criterion = nn.CrossEntropyLoss()\n",
        "optimizer = torch.optim.SGD(model.parameters(), lr=config['learning_rate'], momentum = 0.9)  "
      ],
      "metadata": {
        "id": "WLEQuGSpFVXX"
      },
      "execution_count": null,
      "outputs": []
    },
    {
      "cell_type": "markdown",
      "source": [
        "###**train model**"
      ],
      "metadata": {
        "id": "yo-hcPqqFcyq"
      }
    },
    {
      "cell_type": "code",
      "source": [
        "loss_te,acc1_te,acc5_te,loss_tr,acc1_tr,acc5_tr=train_model(model)"
      ],
      "metadata": {
        "id": "D_UP5X3wFdWP",
        "colab": {
          "base_uri": "https://localhost:8080/"
        },
        "outputId": "46424164-240f-4d81-80c6-fb2adc399f22"
      },
      "execution_count": null,
      "outputs": [
        {
          "output_type": "stream",
          "name": "stdout",
          "text": [
            "Epoch [1/50], Step [94/94], Loss: 2.5389\n",
            "Acc@1 of train_set: 17.17457150398417 %\n",
            "Acc@1 of validation_set: 20.424107154210407 %\n",
            "------------------------------\n",
            "Epoch [2/50], Step [94/94], Loss: 2.0862\n",
            "Acc@1 of train_set: 33.11724289427412 %\n",
            "Acc@1 of validation_set: 32.72879465421041 %\n",
            "------------------------------\n",
            "Epoch [3/50], Step [94/94], Loss: 1.5958\n",
            "Acc@1 of train_set: 47.85571808510638 %\n",
            "Acc@1 of validation_set: 40.68080361684164 %\n",
            "------------------------------\n",
            "Epoch [4/50], Step [94/94], Loss: 1.3191\n",
            "Acc@1 of train_set: 55.41334217152697 %\n",
            "Acc@1 of validation_set: 50.874255975087486 %\n",
            "------------------------------\n",
            "Epoch [5/50], Step [94/94], Loss: 1.1364\n",
            "Acc@1 of train_set: 61.737219222048495 %\n",
            "Acc@1 of validation_set: 58.34263388315836 %\n",
            "------------------------------\n",
            "Epoch [6/50], Step [94/94], Loss: 0.9687\n",
            "Acc@1 of train_set: 67.31493791620782 %\n",
            "Acc@1 of validation_set: 62.75111611684164 %\n",
            "------------------------------\n",
            "Epoch [7/50], Step [94/94], Loss: 0.8713\n",
            "Acc@1 of train_set: 69.72517727790995 %\n",
            "Acc@1 of validation_set: 66.36904748280843 %\n",
            "------------------------------\n",
            "Epoch [8/50], Step [94/94], Loss: 0.8085\n",
            "Acc@1 of train_set: 72.85571808510639 %\n",
            "Acc@1 of validation_set: 67.24330361684163 %\n",
            "------------------------------\n",
            "Epoch [9/50], Step [94/94], Loss: 0.7128\n",
            "Acc@1 of train_set: 76.05274817284118 %\n",
            "Acc@1 of validation_set: 66.49925581614177 %\n",
            "------------------------------\n",
            "Epoch [10/50], Step [94/94], Loss: 0.6478\n",
            "Acc@1 of train_set: 77.9938681582187 %\n",
            "Acc@1 of validation_set: 65.1599702835083 %\n",
            "------------------------------\n",
            "Epoch [11/50], Step [94/94], Loss: 0.5955\n",
            "Acc@1 of train_set: 79.1795951356279 %\n",
            "Acc@1 of validation_set: 68.44308026631673 %\n",
            "------------------------------\n",
            "Epoch [12/50], Step [94/94], Loss: 0.5661\n",
            "Acc@1 of train_set: 80.22310873802672 %\n",
            "Acc@1 of validation_set: 70.44270833333333 %\n",
            "------------------------------\n",
            "Epoch [13/50], Step [94/94], Loss: 0.5063\n",
            "Acc@1 of train_set: 82.65181732177734 %\n",
            "Acc@1 of validation_set: 68.6011905670166 %\n",
            "------------------------------\n",
            "Epoch [14/50], Step [94/94], Loss: 0.4677\n",
            "Acc@1 of train_set: 83.82461580317072 %\n",
            "Acc@1 of validation_set: 71.94010416666667 %\n",
            "------------------------------\n",
            "Epoch [15/50], Step [94/94], Loss: 0.4302\n",
            "Acc@1 of train_set: 85.28738176061752 %\n",
            "Acc@1 of validation_set: 70.49851195017497 %\n",
            "------------------------------\n",
            "Epoch [16/50], Step [94/94], Loss: 0.3980\n",
            "Acc@1 of train_set: 86.08340713825632 %\n",
            "Acc@1 of validation_set: 69.07552083333333 %\n",
            "------------------------------\n",
            "Epoch [17/50], Step [94/94], Loss: 0.3738\n",
            "Acc@1 of train_set: 87.67915181910737 %\n",
            "Acc@1 of validation_set: 71.64248498280843 %\n",
            "------------------------------\n",
            "Epoch [18/50], Step [94/94], Loss: 0.3393\n",
            "Acc@1 of train_set: 88.10209809972885 %\n",
            "Acc@1 of validation_set: 72.2935266494751 %\n",
            "------------------------------\n",
            "Epoch [19/50], Step [94/94], Loss: 0.3055\n",
            "Acc@1 of train_set: 89.49468085106383 %\n",
            "Acc@1 of validation_set: 73.35379473368327 %\n",
            "------------------------------\n",
            "Epoch [20/50], Step [94/94], Loss: 0.2911\n",
            "Acc@1 of train_set: 90.25007385903217 %\n",
            "Acc@1 of validation_set: 69.59635416666667 %\n",
            "------------------------------\n",
            "Epoch [21/50], Step [94/94], Loss: 0.2624\n",
            "Acc@1 of train_set: 91.55400410104305 %\n",
            "Acc@1 of validation_set: 72.47023804982503 %\n",
            "------------------------------\n",
            "Epoch [22/50], Step [94/94], Loss: 0.2572\n",
            "Acc@1 of train_set: 91.27327127659575 %\n",
            "Acc@1 of validation_set: 71.38206831614177 %\n",
            "------------------------------\n",
            "Epoch [23/50], Step [94/94], Loss: 0.2275\n",
            "Acc@1 of train_set: 92.57720151860663 %\n",
            "Acc@1 of validation_set: 71.9029016494751 %\n",
            "------------------------------\n",
            "Epoch [24/50], Step [94/94], Loss: 0.1864\n",
            "Acc@1 of train_set: 94.09906914893617 %\n",
            "Acc@1 of validation_set: 74.84188969930013 %\n",
            "------------------------------\n",
            "Epoch [25/50], Step [94/94], Loss: 0.1613\n",
            "Acc@1 of train_set: 94.92095151860663 %\n",
            "Acc@1 of validation_set: 73.53050581614177 %\n",
            "------------------------------\n",
            "Epoch [26/50], Step [94/94], Loss: 0.1669\n",
            "Acc@1 of train_set: 94.64391245740525 %\n",
            "Acc@1 of validation_set: 72.4888391494751 %\n",
            "------------------------------\n",
            "Epoch [27/50], Step [94/94], Loss: 0.1624\n",
            "Acc@1 of train_set: 94.45552598669174 %\n",
            "Acc@1 of validation_set: 72.23772319157918 %\n",
            "------------------------------\n",
            "Epoch [28/50], Step [94/94], Loss: 0.1461\n",
            "Acc@1 of train_set: 95.17952127659575 %\n",
            "Acc@1 of validation_set: 74.42336304982503 %\n",
            "------------------------------\n",
            "Epoch [29/50], Step [94/94], Loss: 0.1136\n",
            "Acc@1 of train_set: 96.52593085106383 %\n",
            "Acc@1 of validation_set: 72.96316973368327 %\n",
            "------------------------------\n",
            "Epoch [30/50], Step [94/94], Loss: 0.1021\n",
            "Acc@1 of train_set: 97.04122340425532 %\n",
            "Acc@1 of validation_set: 74.5628719329834 %\n",
            "------------------------------\n",
            "Epoch [31/50], Step [94/94], Loss: 0.0946\n",
            "Acc@1 of train_set: 97.33119088030875 %\n",
            "Acc@1 of validation_set: 74.70238081614177 %\n",
            "------------------------------\n",
            "Epoch [32/50], Step [94/94], Loss: 0.0860\n",
            "Acc@1 of train_set: 97.1982121569045 %\n",
            "Acc@1 of validation_set: 72.13541666666667 %\n",
            "------------------------------\n",
            "Epoch [33/50], Step [94/94], Loss: 0.0896\n",
            "Acc@1 of train_set: 96.99874407179813 %\n",
            "Acc@1 of validation_set: 74.47916666666667 %\n",
            "------------------------------\n",
            "Epoch [34/50], Step [94/94], Loss: 0.0880\n",
            "Acc@1 of train_set: 97.29055851063829 %\n",
            "Acc@1 of validation_set: 75.9765625 %\n",
            "------------------------------\n",
            "Epoch [35/50], Step [94/94], Loss: 0.0627\n",
            "Acc@1 of train_set: 98.27127659574468 %\n",
            "Acc@1 of validation_set: 74.2652530670166 %\n",
            "------------------------------\n",
            "Epoch [36/50], Step [94/94], Loss: 0.0548\n",
            "Acc@1 of train_set: 98.65359042553192 %\n",
            "Acc@1 of validation_set: 73.50260416666667 %\n",
            "------------------------------\n",
            "Epoch [37/50], Step [94/94], Loss: 0.0743\n",
            "Acc@1 of train_set: 97.71165774730926 %\n",
            "Acc@1 of validation_set: 72.8515625 %\n",
            "------------------------------\n",
            "Epoch [38/50], Step [94/94], Loss: 0.0787\n",
            "Acc@1 of train_set: 97.34042553191489 %\n",
            "Acc@1 of validation_set: 71.69828859965007 %\n",
            "------------------------------\n",
            "Epoch [39/50], Step [94/94], Loss: 0.0419\n",
            "Acc@1 of train_set: 99.1688829787234 %\n",
            "Acc@1 of validation_set: 75.16741053263347 %\n",
            "------------------------------\n",
            "Epoch [40/50], Step [94/94], Loss: 0.0377\n",
            "Acc@1 of train_set: 99.08577127659575 %\n",
            "Acc@1 of validation_set: 75.65104166666667 %\n",
            "------------------------------\n",
            "Epoch [41/50], Step [94/94], Loss: 0.0520\n",
            "Acc@1 of train_set: 98.55939710901139 %\n",
            "Acc@1 of validation_set: 72.71205361684163 %\n",
            "------------------------------\n",
            "Epoch [42/50], Step [94/94], Loss: 0.0749\n",
            "Acc@1 of train_set: 97.50664893617021 %\n",
            "Acc@1 of validation_set: 73.57700888315837 %\n",
            "------------------------------\n",
            "Epoch [43/50], Step [94/94], Loss: 0.0434\n",
            "Acc@1 of train_set: 98.88630319148936 %\n",
            "Acc@1 of validation_set: 75.60453859965007 %\n",
            "------------------------------\n",
            "Epoch [44/50], Step [94/94], Loss: 0.0556\n",
            "Acc@1 of train_set: 98.18816489361703 %\n",
            "Acc@1 of validation_set: 76.19047609965007 %\n",
            "------------------------------\n",
            "Epoch [45/50], Step [94/94], Loss: 0.0383\n",
            "Acc@1 of train_set: 98.99342492286195 %\n",
            "Acc@1 of validation_set: 75.6603422164917 %\n",
            "------------------------------\n",
            "Epoch [46/50], Step [94/94], Loss: 0.0343\n",
            "Acc@1 of train_set: 99.18550531914893 %\n",
            "Acc@1 of validation_set: 73.9769344329834 %\n",
            "------------------------------\n",
            "Epoch [47/50], Step [94/94], Loss: 0.0363\n",
            "Acc@1 of train_set: 99.00265957446808 %\n",
            "Acc@1 of validation_set: 74.6558780670166 %\n",
            "------------------------------\n",
            "Epoch [48/50], Step [94/94], Loss: 0.0323\n",
            "Acc@1 of train_set: 99.1688829787234 %\n",
            "Acc@1 of validation_set: 76.64620526631673 %\n",
            "------------------------------\n",
            "Epoch [49/50], Step [94/94], Loss: 0.0254\n",
            "Acc@1 of train_set: 99.47547279520238 %\n",
            "Acc@1 of validation_set: 75.76264890034993 %\n",
            "------------------------------\n",
            "Epoch [50/50], Step [94/94], Loss: 0.0247\n",
            "Acc@1 of train_set: 99.30186170212765 %\n",
            "Acc@1 of validation_set: 75.38132445017497 %\n",
            "------------------------------\n"
          ]
        }
      ]
    },
    {
      "cell_type": "markdown",
      "source": [
        "###**plot loss and accuracy**"
      ],
      "metadata": {
        "id": "im9GLPlgFje2"
      }
    },
    {
      "cell_type": "code",
      "source": [
        "acc_loss_plot(loss_te,acc1_te,acc5_te,loss_tr,acc1_tr,acc5_tr)"
      ],
      "metadata": {
        "id": "3WJWYilAFmQH",
        "colab": {
          "base_uri": "https://localhost:8080/",
          "height": 851
        },
        "outputId": "09f0af31-7490-4aeb-be64-0b9af94d3336"
      },
      "execution_count": null,
      "outputs": [
        {
          "output_type": "display_data",
          "data": {
            "text/plain": [
              "<Figure size 432x288 with 1 Axes>"
            ],
            "image/png": "[encoded data removed]"
          },
          "metadata": {
            "needs_background": "light"
          }
        },
        {
          "output_type": "display_data",
          "data": {
            "text/plain": [
              "<Figure size 432x288 with 1 Axes>"
            ],
            "image/png": "[encoded data removed]"
          },
          "metadata": {
            "needs_background": "light"
          }
        },
        {
          "output_type": "display_data",
          "data": {
            "text/plain": [
              "<Figure size 432x288 with 1 Axes>"
            ],
            "image/png": "[encoded data removed]"
          },
          "metadata": {
            "needs_background": "light"
          }
        }
      ]
    },
    {
      "cell_type": "markdown",
      "source": [
        "$Results  : $\n",
        "\n",
        "$maximum \\ acc@1 \\  on \\  test \\ set \\ converges \\  to  \\ : \\ 76.64  $%\n",
        "\n",
        "$maximum \\ acc@5 \\  on \\  test \\ set \\ converges \\  to  \\ : \\ 96  $%\n",
        "\n",
        "\n",
        "$maximum \\ acc@1 \\  on \\  trian \\ set \\ converges \\  to  \\ : \\ 99.47  $%\n",
        "\n",
        "$maximum \\ acc@5 \\  on \\  train \\ set \\ converges \\  to  \\ : \\ 100  $%\n",
        "\n",
        "---\n",
        "\n",
        "$conclusions  : $\n",
        "\n",
        "same as previous parts"
      ],
      "metadata": {
        "id": "HG-WKJ42Ny_Y"
      }
    },
    {
      "cell_type": "markdown",
      "source": [
        "###**part 4**\n",
        "whole alexnet architecture : \n",
        "we squeeze the pre-trained weights ad just learn the new weight of classifier layer : "
      ],
      "metadata": {
        "id": "3ppGshHSLqvo"
      }
    },
    {
      "cell_type": "code",
      "source": [
        "AlexNet_model = torch.hub.load('pytorch/vision:v0.6.0', 'alexnet', pretrained=True)\n",
        "#---description\n",
        "AlexNet_model.eval()"
      ],
      "metadata": {
        "id": "XciOGy9iLsnU",
        "colab": {
          "base_uri": "https://localhost:8080/",
          "height": 642,
          "referenced_widgets": [
            "5cf23cbfb18243a596ad79cb7993f1cb",
            "d131bddc333a4d31a7724336b71715a4",
            "00fc8fb25a7e43479f7b08f524f9b86d",
            "4936a41446864ac3b3b5af85e3f3b970",
            "eb46ac4322f24fabb2ea65cbc3b0628f",
            "eef3eeeb217c49cfb509b8b803d57a96",
            "38a28280757c486e8730e0a6538f5a67",
            "e0e184009f4c471b8ec8dc446a9e6400",
            "8c4f604193c545af822642a5e6f512b2",
            "304c1531ce134b38883a6bb32cb8a543",
            "36d02f74a02f41228f31e53298e6f5e2"
          ]
        },
        "outputId": "06c4fc85-230b-4fd1-cf76-d96c3d678c59"
      },
      "execution_count": null,
      "outputs": [
        {
          "output_type": "stream",
          "name": "stderr",
          "text": [
            "Downloading: \"https://github.com/pytorch/vision/zipball/v0.6.0\" to /root/.cache/torch/hub/v0.6.0.zip\n",
            "/usr/local/lib/python3.7/dist-packages/torchvision/models/_utils.py:209: UserWarning: The parameter 'pretrained' is deprecated since 0.13 and will be removed in 0.15, please use 'weights' instead.\n",
            "  f\"The parameter '{pretrained_param}' is deprecated since 0.13 and will be removed in 0.15, \"\n",
            "/usr/local/lib/python3.7/dist-packages/torchvision/models/_utils.py:223: UserWarning: Arguments other than a weight enum or `None` for 'weights' are deprecated since 0.13 and will be removed in 0.15. The current behavior is equivalent to passing `weights=AlexNet_Weights.IMAGENET1K_V1`. You can also use `weights=AlexNet_Weights.DEFAULT` to get the most up-to-date weights.\n",
            "  warnings.warn(msg)\n",
            "Downloading: \"https://download.pytorch.org/models/alexnet-owt-7be5be79.pth\" to /root/.cache/torch/hub/checkpoints/alexnet-owt-7be5be79.pth\n"
          ]
        },
        {
          "output_type": "display_data",
          "data": {
            "text/plain": [
              "  0%|          | 0.00/233M [00:00<?, ?B/s]"
            ],
            "application/vnd.jupyter.widget-view+json": {
              "version_major": 2,
              "version_minor": 0,
              "model_id": "5cf23cbfb18243a596ad79cb7993f1cb"
            }
          },
          "metadata": {}
        },
        {
          "output_type": "execute_result",
          "data": {
            "text/plain": [
              "AlexNet(\n",
              "  (features): Sequential(\n",
              "    (0): Conv2d(3, 64, kernel_size=(11, 11), stride=(4, 4), padding=(2, 2))\n",
              "    (1): ReLU(inplace=True)\n",
              "    (2): MaxPool2d(kernel_size=3, stride=2, padding=0, dilation=1, ceil_mode=False)\n",
              "    (3): Conv2d(64, 192, kernel_size=(5, 5), stride=(1, 1), padding=(2, 2))\n",
              "    (4): ReLU(inplace=True)\n",
              "    (5): MaxPool2d(kernel_size=3, stride=2, padding=0, dilation=1, ceil_mode=False)\n",
              "    (6): Conv2d(192, 384, kernel_size=(3, 3), stride=(1, 1), padding=(1, 1))\n",
              "    (7): ReLU(inplace=True)\n",
              "    (8): Conv2d(384, 256, kernel_size=(3, 3), stride=(1, 1), padding=(1, 1))\n",
              "    (9): ReLU(inplace=True)\n",
              "    (10): Conv2d(256, 256, kernel_size=(3, 3), stride=(1, 1), padding=(1, 1))\n",
              "    (11): ReLU(inplace=True)\n",
              "    (12): MaxPool2d(kernel_size=3, stride=2, padding=0, dilation=1, ceil_mode=False)\n",
              "  )\n",
              "  (avgpool): AdaptiveAvgPool2d(output_size=(6, 6))\n",
              "  (classifier): Sequential(\n",
              "    (0): Dropout(p=0.5, inplace=False)\n",
              "    (1): Linear(in_features=9216, out_features=4096, bias=True)\n",
              "    (2): ReLU(inplace=True)\n",
              "    (3): Dropout(p=0.5, inplace=False)\n",
              "    (4): Linear(in_features=4096, out_features=4096, bias=True)\n",
              "    (5): ReLU(inplace=True)\n",
              "    (6): Linear(in_features=4096, out_features=1000, bias=True)\n",
              "  )\n",
              ")"
            ]
          },
          "metadata": {},
          "execution_count": 119
        }
      ]
    },
    {
      "cell_type": "markdown",
      "source": [
        "###**freeze layers before classifier**"
      ],
      "metadata": {
        "id": "fo99Pb6bN1kQ"
      }
    },
    {
      "cell_type": "code",
      "source": [
        "AlexNet_model.classifier[6] = nn.Linear(4096,15)\n",
        "AlexNet_model.eval()"
      ],
      "metadata": {
        "id": "Fnd81xokOOC9",
        "colab": {
          "base_uri": "https://localhost:8080/"
        },
        "outputId": "6a27e344-f216-401f-d133-0ec52d4efc6d"
      },
      "execution_count": null,
      "outputs": [
        {
          "output_type": "execute_result",
          "data": {
            "text/plain": [
              "AlexNet(\n",
              "  (features): Sequential(\n",
              "    (0): Conv2d(3, 64, kernel_size=(11, 11), stride=(4, 4), padding=(2, 2))\n",
              "    (1): ReLU(inplace=True)\n",
              "    (2): MaxPool2d(kernel_size=3, stride=2, padding=0, dilation=1, ceil_mode=False)\n",
              "    (3): Conv2d(64, 192, kernel_size=(5, 5), stride=(1, 1), padding=(2, 2))\n",
              "    (4): ReLU(inplace=True)\n",
              "    (5): MaxPool2d(kernel_size=3, stride=2, padding=0, dilation=1, ceil_mode=False)\n",
              "    (6): Conv2d(192, 384, kernel_size=(3, 3), stride=(1, 1), padding=(1, 1))\n",
              "    (7): ReLU(inplace=True)\n",
              "    (8): Conv2d(384, 256, kernel_size=(3, 3), stride=(1, 1), padding=(1, 1))\n",
              "    (9): ReLU(inplace=True)\n",
              "    (10): Conv2d(256, 256, kernel_size=(3, 3), stride=(1, 1), padding=(1, 1))\n",
              "    (11): ReLU(inplace=True)\n",
              "    (12): MaxPool2d(kernel_size=3, stride=2, padding=0, dilation=1, ceil_mode=False)\n",
              "  )\n",
              "  (avgpool): AdaptiveAvgPool2d(output_size=(6, 6))\n",
              "  (classifier): Sequential(\n",
              "    (0): Dropout(p=0.5, inplace=False)\n",
              "    (1): Linear(in_features=9216, out_features=4096, bias=True)\n",
              "    (2): ReLU(inplace=True)\n",
              "    (3): Dropout(p=0.5, inplace=False)\n",
              "    (4): Linear(in_features=4096, out_features=4096, bias=True)\n",
              "    (5): ReLU(inplace=True)\n",
              "    (6): Linear(in_features=4096, out_features=15, bias=True)\n",
              "  )\n",
              ")"
            ]
          },
          "metadata": {},
          "execution_count": 120
        }
      ]
    },
    {
      "cell_type": "code",
      "source": [
        "for param in AlexNet_model.parameters():\n",
        "        param.requires_grad = False  #freeze all layers \n",
        "for param in AlexNet_model.classifier[6].parameters():\n",
        "        param.requires_grad = True   #unfreez classifer layer"
      ],
      "metadata": {
        "id": "oFhO62a1N4-g"
      },
      "execution_count": null,
      "outputs": []
    },
    {
      "cell_type": "markdown",
      "source": [
        "###**load the model**\n",
        "\n",
        "\n"
      ],
      "metadata": {
        "id": "i_3tl92OQo-Z"
      }
    },
    {
      "cell_type": "code",
      "source": [
        "#load the model\n",
        "model = AlexNet_model.to(device)\n",
        "\n",
        "# Loss and optimizer\n",
        "criterion = nn.CrossEntropyLoss()\n",
        "optimizer = torch.optim.SGD(model.parameters(), lr=config['learning_rate'], momentum = 0.9)  "
      ],
      "metadata": {
        "id": "H5-agNZpQpWV"
      },
      "execution_count": null,
      "outputs": []
    },
    {
      "cell_type": "markdown",
      "source": [
        "###**train model**"
      ],
      "metadata": {
        "id": "6_hkkho4QTnd"
      }
    },
    {
      "cell_type": "code",
      "source": [
        "loss_te,acc1_te,acc5_te,loss_tr,acc1_tr,acc5_tr=train_model(model)"
      ],
      "metadata": {
        "id": "3Jj7FsvMQUNc",
        "colab": {
          "base_uri": "https://localhost:8080/"
        },
        "outputId": "a4b85b25-5c32-4eae-c436-fcb206ff0c41"
      },
      "execution_count": null,
      "outputs": [
        {
          "output_type": "stream",
          "name": "stdout",
          "text": [
            "Epoch [1/50], Step [94/94], Loss: 0.8694\n",
            "Acc@1 of train_set: 74.52349285369223 %\n",
            "Acc@1 of validation_set: 85.1841516494751 %\n",
            "------------------------------\n",
            "Epoch [2/50], Step [94/94], Loss: 0.3684\n",
            "Acc@1 of train_set: 89.05141838560714 %\n",
            "Acc@1 of validation_set: 86.34672609965007 %\n",
            "------------------------------\n",
            "Epoch [3/50], Step [94/94], Loss: 0.2976\n",
            "Acc@1 of train_set: 91.33791367551113 %\n",
            "Acc@1 of validation_set: 86.0863094329834 %\n",
            "------------------------------\n",
            "Epoch [4/50], Step [94/94], Loss: 0.2561\n",
            "Acc@1 of train_set: 93.01677005848985 %\n",
            "Acc@1 of validation_set: 87.05357138315837 %\n",
            "------------------------------\n",
            "Epoch [5/50], Step [94/94], Loss: 0.2265\n",
            "Acc@1 of train_set: 93.77401002924493 %\n",
            "Acc@1 of validation_set: 87.59300581614177 %\n",
            "------------------------------\n",
            "Epoch [6/50], Step [94/94], Loss: 0.2046\n",
            "Acc@1 of train_set: 94.72148343350025 %\n",
            "Acc@1 of validation_set: 87.19308026631673 %\n",
            "------------------------------\n",
            "Epoch [7/50], Step [94/94], Loss: 0.1882\n",
            "Acc@1 of train_set: 94.98744088030875 %\n",
            "Acc@1 of validation_set: 87.9185266494751 %\n",
            "------------------------------\n",
            "Epoch [8/50], Step [94/94], Loss: 0.1736\n",
            "Acc@1 of train_set: 95.79270090955369 %\n",
            "Acc@1 of validation_set: 87.70461304982503 %\n",
            "------------------------------\n",
            "Epoch [9/50], Step [94/94], Loss: 0.1602\n",
            "Acc@1 of train_set: 96.32646276595744 %\n",
            "Acc@1 of validation_set: 87.75111611684163 %\n",
            "------------------------------\n",
            "Epoch [10/50], Step [94/94], Loss: 0.1491\n",
            "Acc@1 of train_set: 96.72539893617021 %\n",
            "Acc@1 of validation_set: 87.89992554982503 %\n",
            "------------------------------\n",
            "Epoch [11/50], Step [94/94], Loss: 0.1409\n",
            "Acc@1 of train_set: 96.94887705052153 %\n",
            "Acc@1 of validation_set: 88.43935998280843 %\n",
            "------------------------------\n",
            "Epoch [12/50], Step [94/94], Loss: 0.1320\n",
            "Acc@1 of train_set: 97.1483451356279 %\n",
            "Acc@1 of validation_set: 87.88132445017497 %\n",
            "------------------------------\n",
            "Epoch [13/50], Step [94/94], Loss: 0.1249\n",
            "Acc@1 of train_set: 97.48079194413855 %\n",
            "Acc@1 of validation_set: 88.48586304982503 %\n",
            "------------------------------\n",
            "Epoch [14/50], Step [94/94], Loss: 0.1190\n",
            "Acc@1 of train_set: 97.63039300796834 %\n",
            "Acc@1 of validation_set: 88.65327390034993 %\n",
            "------------------------------\n",
            "Epoch [15/50], Step [94/94], Loss: 0.1122\n",
            "Acc@1 of train_set: 98.07180851063829 %\n",
            "Acc@1 of validation_set: 88.73697916666667 %\n",
            "------------------------------\n",
            "Epoch [16/50], Step [94/94], Loss: 0.1085\n",
            "Acc@1 of train_set: 98.11982856912816 %\n",
            "Acc@1 of validation_set: 88.78348223368327 %\n",
            "------------------------------\n",
            "Epoch [17/50], Step [94/94], Loss: 0.1023\n",
            "Acc@1 of train_set: 98.31190896541514 %\n",
            "Acc@1 of validation_set: 88.1603422164917 %\n",
            "------------------------------\n",
            "Epoch [18/50], Step [94/94], Loss: 0.0987\n",
            "Acc@1 of train_set: 98.44488768881939 %\n",
            "Acc@1 of validation_set: 87.70461304982503 %\n",
            "------------------------------\n",
            "Epoch [19/50], Step [94/94], Loss: 0.0932\n",
            "Acc@1 of train_set: 98.57047872340425 %\n",
            "Acc@1 of validation_set: 88.87648804982503 %\n",
            "------------------------------\n",
            "Epoch [20/50], Step [94/94], Loss: 0.0896\n",
            "Acc@1 of train_set: 98.63696808510639 %\n",
            "Acc@1 of validation_set: 89.20200888315837 %\n",
            "------------------------------\n",
            "Epoch [21/50], Step [94/94], Loss: 0.0864\n",
            "Acc@1 of train_set: 98.80319148936171 %\n",
            "Acc@1 of validation_set: 88.5788688659668 %\n",
            "------------------------------\n",
            "Epoch [22/50], Step [94/94], Loss: 0.0840\n",
            "Acc@1 of train_set: 98.84382385903217 %\n",
            "Acc@1 of validation_set: 88.6997766494751 %\n",
            "------------------------------\n",
            "Epoch [23/50], Step [94/94], Loss: 0.0797\n",
            "Acc@1 of train_set: 99.00265957446808 %\n",
            "Acc@1 of validation_set: 87.92782719930013 %\n",
            "------------------------------\n",
            "Epoch [24/50], Step [94/94], Loss: 0.0772\n",
            "Acc@1 of train_set: 99.00265957446808 %\n",
            "Acc@1 of validation_set: 88.2068452835083 %\n",
            "------------------------------\n",
            "Epoch [25/50], Step [94/94], Loss: 0.0748\n",
            "Acc@1 of train_set: 99.1190159574468 %\n",
            "Acc@1 of validation_set: 88.7183780670166 %\n",
            "------------------------------\n",
            "Epoch [26/50], Step [94/94], Loss: 0.0725\n",
            "Acc@1 of train_set: 99.13563829787235 %\n",
            "Acc@1 of validation_set: 88.07663695017497 %\n",
            "------------------------------\n",
            "Epoch [27/50], Step [94/94], Loss: 0.0699\n",
            "Acc@1 of train_set: 99.1688829787234 %\n",
            "Acc@1 of validation_set: 88.60677083333333 %\n",
            "------------------------------\n",
            "Epoch [28/50], Step [94/94], Loss: 0.0677\n",
            "Acc@1 of train_set: 99.15226063829788 %\n",
            "Acc@1 of validation_set: 88.21614583333333 %\n",
            "------------------------------\n",
            "Epoch [29/50], Step [94/94], Loss: 0.0652\n",
            "Acc@1 of train_set: 99.2686170212766 %\n",
            "Acc@1 of validation_set: 88.87648804982503 %\n",
            "------------------------------\n",
            "Epoch [30/50], Step [94/94], Loss: 0.0645\n",
            "Acc@1 of train_set: 99.25199468085107 %\n",
            "Acc@1 of validation_set: 89.07180054982503 %\n",
            "------------------------------\n",
            "Epoch [31/50], Step [94/94], Loss: 0.0620\n",
            "Acc@1 of train_set: 99.28523936170212 %\n",
            "Acc@1 of validation_set: 88.83928553263347 %\n",
            "------------------------------\n",
            "Epoch [32/50], Step [94/94], Loss: 0.0604\n",
            "Acc@1 of train_set: 99.34249407179813 %\n",
            "Acc@1 of validation_set: 88.3556547164917 %\n",
            "------------------------------\n",
            "Epoch [33/50], Step [94/94], Loss: 0.0583\n",
            "Acc@1 of train_set: 99.38497340425532 %\n",
            "Acc@1 of validation_set: 88.82998498280843 %\n",
            "------------------------------\n",
            "Epoch [34/50], Step [94/94], Loss: 0.0566\n",
            "Acc@1 of train_set: 99.48470744680851 %\n",
            "Acc@1 of validation_set: 89.17410723368327 %\n",
            "------------------------------\n",
            "Epoch [35/50], Step [94/94], Loss: 0.0554\n",
            "Acc@1 of train_set: 99.51795212765957 %\n",
            "Acc@1 of validation_set: 89.07180054982503 %\n",
            "------------------------------\n",
            "Epoch [36/50], Step [94/94], Loss: 0.0538\n",
            "Acc@1 of train_set: 99.43484042553192 %\n",
            "Acc@1 of validation_set: 88.5509672164917 %\n",
            "------------------------------\n",
            "Epoch [37/50], Step [94/94], Loss: 0.0529\n",
            "Acc@1 of train_set: 99.60106382978724 %\n",
            "Acc@1 of validation_set: 88.27194945017497 %\n",
            "------------------------------\n",
            "Epoch [38/50], Step [94/94], Loss: 0.0511\n",
            "Acc@1 of train_set: 99.60106382978724 %\n",
            "Acc@1 of validation_set: 88.87648804982503 %\n",
            "------------------------------\n",
            "Epoch [39/50], Step [94/94], Loss: 0.0502\n",
            "Acc@1 of train_set: 99.58444148936171 %\n",
            "Acc@1 of validation_set: 88.61607138315837 %\n",
            "------------------------------\n",
            "Epoch [40/50], Step [94/94], Loss: 0.0492\n",
            "Acc@1 of train_set: 99.60106382978724 %\n",
            "Acc@1 of validation_set: 88.1882438659668 %\n",
            "------------------------------\n",
            "Epoch [41/50], Step [94/94], Loss: 0.0478\n",
            "Acc@1 of train_set: 99.66755319148936 %\n",
            "Acc@1 of validation_set: 88.76488081614177 %\n",
            "------------------------------\n",
            "Epoch [42/50], Step [94/94], Loss: 0.0467\n",
            "Acc@1 of train_set: 99.70079787234043 %\n",
            "Acc@1 of validation_set: 88.69047609965007 %\n",
            "------------------------------\n",
            "Epoch [43/50], Step [94/94], Loss: 0.0457\n",
            "Acc@1 of train_set: 99.71742021276596 %\n",
            "Acc@1 of validation_set: 88.66257445017497 %\n",
            "------------------------------\n",
            "Epoch [44/50], Step [94/94], Loss: 0.0450\n",
            "Acc@1 of train_set: 99.76728723404256 %\n",
            "Acc@1 of validation_set: 89.17410723368327 %\n",
            "------------------------------\n",
            "Epoch [45/50], Step [94/94], Loss: 0.0437\n",
            "Acc@1 of train_set: 99.71742021276596 %\n",
            "Acc@1 of validation_set: 88.53236611684163 %\n",
            "------------------------------\n",
            "Epoch [46/50], Step [94/94], Loss: 0.0430\n",
            "Acc@1 of train_set: 99.80053191489361 %\n",
            "Acc@1 of validation_set: 88.6997766494751 %\n",
            "------------------------------\n",
            "Epoch [47/50], Step [94/94], Loss: 0.0422\n",
            "Acc@1 of train_set: 99.83377659574468 %\n",
            "Acc@1 of validation_set: 88.5230655670166 %\n",
            "------------------------------\n",
            "Epoch [48/50], Step [94/94], Loss: 0.0412\n",
            "Acc@1 of train_set: 99.80053191489361 %\n",
            "Acc@1 of validation_set: 88.8950891494751 %\n",
            "------------------------------\n",
            "Epoch [49/50], Step [94/94], Loss: 0.0407\n",
            "Acc@1 of train_set: 99.80053191489361 %\n",
            "Acc@1 of validation_set: 88.9136905670166 %\n",
            "------------------------------\n",
            "Epoch [50/50], Step [94/94], Loss: 0.0400\n",
            "Acc@1 of train_set: 99.86702127659575 %\n",
            "Acc@1 of validation_set: 88.82998498280843 %\n",
            "------------------------------\n"
          ]
        }
      ]
    },
    {
      "cell_type": "markdown",
      "source": [
        "###**plot loss and accuracy**"
      ],
      "metadata": {
        "id": "nmMdN16ZQYB5"
      }
    },
    {
      "cell_type": "code",
      "source": [
        "acc_loss_plot(loss_te,acc1_te,acc5_te,loss_tr,acc1_tr,acc5_tr)"
      ],
      "metadata": {
        "id": "_y2GszqoQYs_",
        "colab": {
          "base_uri": "https://localhost:8080/",
          "height": 851
        },
        "outputId": "daf738fc-714f-45ce-f090-53f50cc5137d"
      },
      "execution_count": null,
      "outputs": [
        {
          "output_type": "display_data",
          "data": {
            "text/plain": [
              "<Figure size 432x288 with 1 Axes>"
            ],
            "image/png": "[encoded data removed]"
          },
          "metadata": {
            "needs_background": "light"
          }
        },
        {
          "output_type": "display_data",
          "data": {
            "text/plain": [
              "<Figure size 432x288 with 1 Axes>"
            ],
            "image/png": "[encoded data removed]"
          },
          "metadata": {
            "needs_background": "light"
          }
        },
        {
          "output_type": "display_data",
          "data": {
            "text/plain": [
              "<Figure size 432x288 with 1 Axes>"
            ],
            "image/png": "[encoded data removed]"
          },
          "metadata": {
            "needs_background": "light"
          }
        }
      ]
    },
    {
      "cell_type": "markdown",
      "source": [
        "$Results  : $\n",
        "\n",
        "$maximum \\ acc@1 \\  on \\  test \\ set \\ converges \\  to  \\ : \\ 89.2  $%\n",
        "\n",
        "$maximum \\ acc@5 \\  on \\  test \\ set \\ converges \\  to  \\ : \\ 99.8  $%\n",
        "\n",
        "\n",
        "$maximum \\ acc@1 \\  on \\  trian \\ set \\ converges \\  to  \\ : \\ 99.86  $%\n",
        "\n",
        "$maximum \\ acc@5 \\  on \\  train \\ set \\ converges \\  to  \\ : \\ 100  $%\n",
        "\n",
        "---\n",
        "\n",
        "$conclusions  : $\n",
        "\n",
        "same as previous parts"
      ],
      "metadata": {
        "id": "ZdDFlRPrN9Ae"
      }
    },
    {
      "cell_type": "markdown",
      "source": [
        "###**part 5**\n",
        "transfer learning : \n",
        "in this part we use trained weights of alexnet model that use for imagenet dataset "
      ],
      "metadata": {
        "id": "NzWBcBDRtkET"
      }
    },
    {
      "cell_type": "code",
      "source": [
        "AlexNet_model = torch.hub.load('pytorch/vision:v0.6.0', 'alexnet', pretrained=True)\n",
        "#---description\n",
        "AlexNet_model.eval()"
      ],
      "metadata": {
        "id": "pU1cd4I5tmBb",
        "colab": {
          "base_uri": "https://localhost:8080/"
        },
        "outputId": "955f330e-6e15-484d-903d-4ce27b1b0022"
      },
      "execution_count": null,
      "outputs": [
        {
          "output_type": "stream",
          "name": "stderr",
          "text": [
            "Using cache found in /root/.cache/torch/hub/pytorch_vision_v0.6.0\n",
            "/usr/local/lib/python3.7/dist-packages/torchvision/models/_utils.py:209: UserWarning: The parameter 'pretrained' is deprecated since 0.13 and will be removed in 0.15, please use 'weights' instead.\n",
            "  f\"The parameter '{pretrained_param}' is deprecated since 0.13 and will be removed in 0.15, \"\n",
            "/usr/local/lib/python3.7/dist-packages/torchvision/models/_utils.py:223: UserWarning: Arguments other than a weight enum or `None` for 'weights' are deprecated since 0.13 and will be removed in 0.15. The current behavior is equivalent to passing `weights=AlexNet_Weights.IMAGENET1K_V1`. You can also use `weights=AlexNet_Weights.DEFAULT` to get the most up-to-date weights.\n",
            "  warnings.warn(msg)\n"
          ]
        },
        {
          "output_type": "execute_result",
          "data": {
            "text/plain": [
              "AlexNet(\n",
              "  (features): Sequential(\n",
              "    (0): Conv2d(3, 64, kernel_size=(11, 11), stride=(4, 4), padding=(2, 2))\n",
              "    (1): ReLU(inplace=True)\n",
              "    (2): MaxPool2d(kernel_size=3, stride=2, padding=0, dilation=1, ceil_mode=False)\n",
              "    (3): Conv2d(64, 192, kernel_size=(5, 5), stride=(1, 1), padding=(2, 2))\n",
              "    (4): ReLU(inplace=True)\n",
              "    (5): MaxPool2d(kernel_size=3, stride=2, padding=0, dilation=1, ceil_mode=False)\n",
              "    (6): Conv2d(192, 384, kernel_size=(3, 3), stride=(1, 1), padding=(1, 1))\n",
              "    (7): ReLU(inplace=True)\n",
              "    (8): Conv2d(384, 256, kernel_size=(3, 3), stride=(1, 1), padding=(1, 1))\n",
              "    (9): ReLU(inplace=True)\n",
              "    (10): Conv2d(256, 256, kernel_size=(3, 3), stride=(1, 1), padding=(1, 1))\n",
              "    (11): ReLU(inplace=True)\n",
              "    (12): MaxPool2d(kernel_size=3, stride=2, padding=0, dilation=1, ceil_mode=False)\n",
              "  )\n",
              "  (avgpool): AdaptiveAvgPool2d(output_size=(6, 6))\n",
              "  (classifier): Sequential(\n",
              "    (0): Dropout(p=0.5, inplace=False)\n",
              "    (1): Linear(in_features=9216, out_features=4096, bias=True)\n",
              "    (2): ReLU(inplace=True)\n",
              "    (3): Dropout(p=0.5, inplace=False)\n",
              "    (4): Linear(in_features=4096, out_features=4096, bias=True)\n",
              "    (5): ReLU(inplace=True)\n",
              "    (6): Linear(in_features=4096, out_features=1000, bias=True)\n",
              "  )\n",
              ")"
            ]
          },
          "metadata": {},
          "execution_count": 125
        }
      ]
    },
    {
      "cell_type": "markdown",
      "source": [
        "###change last fully connected layers of this arcitecture  \n"
      ],
      "metadata": {
        "id": "lVLZvyvq1yuo"
      }
    },
    {
      "cell_type": "code",
      "source": [
        "AlexNet_model.classifier[6] = nn.Linear(4096,15)\n",
        "\n",
        "#---description of new model\n",
        "AlexNet_model.eval()"
      ],
      "metadata": {
        "id": "ywa6cR2Nucki",
        "colab": {
          "base_uri": "https://localhost:8080/"
        },
        "outputId": "541d014c-ab69-4393-cd75-59b14685568c"
      },
      "execution_count": null,
      "outputs": [
        {
          "output_type": "execute_result",
          "data": {
            "text/plain": [
              "AlexNet(\n",
              "  (features): Sequential(\n",
              "    (0): Conv2d(3, 64, kernel_size=(11, 11), stride=(4, 4), padding=(2, 2))\n",
              "    (1): ReLU(inplace=True)\n",
              "    (2): MaxPool2d(kernel_size=3, stride=2, padding=0, dilation=1, ceil_mode=False)\n",
              "    (3): Conv2d(64, 192, kernel_size=(5, 5), stride=(1, 1), padding=(2, 2))\n",
              "    (4): ReLU(inplace=True)\n",
              "    (5): MaxPool2d(kernel_size=3, stride=2, padding=0, dilation=1, ceil_mode=False)\n",
              "    (6): Conv2d(192, 384, kernel_size=(3, 3), stride=(1, 1), padding=(1, 1))\n",
              "    (7): ReLU(inplace=True)\n",
              "    (8): Conv2d(384, 256, kernel_size=(3, 3), stride=(1, 1), padding=(1, 1))\n",
              "    (9): ReLU(inplace=True)\n",
              "    (10): Conv2d(256, 256, kernel_size=(3, 3), stride=(1, 1), padding=(1, 1))\n",
              "    (11): ReLU(inplace=True)\n",
              "    (12): MaxPool2d(kernel_size=3, stride=2, padding=0, dilation=1, ceil_mode=False)\n",
              "  )\n",
              "  (avgpool): AdaptiveAvgPool2d(output_size=(6, 6))\n",
              "  (classifier): Sequential(\n",
              "    (0): Dropout(p=0.5, inplace=False)\n",
              "    (1): Linear(in_features=9216, out_features=4096, bias=True)\n",
              "    (2): ReLU(inplace=True)\n",
              "    (3): Dropout(p=0.5, inplace=False)\n",
              "    (4): Linear(in_features=4096, out_features=4096, bias=True)\n",
              "    (5): ReLU(inplace=True)\n",
              "    (6): Linear(in_features=4096, out_features=15, bias=True)\n",
              "  )\n",
              ")"
            ]
          },
          "metadata": {},
          "execution_count": 129
        }
      ]
    },
    {
      "cell_type": "markdown",
      "source": [
        "###**load model**"
      ],
      "metadata": {
        "id": "ftMP4mdh2Op-"
      }
    },
    {
      "cell_type": "code",
      "source": [
        "#load the model\n",
        "model = AlexNet_model.to(device)\n",
        "\n",
        "#Loss\n",
        "criterion = nn.CrossEntropyLoss()\n",
        "\n",
        "#Optimizer(SGD)\n",
        "optimizer = torch.optim.SGD(AlexNet_model.parameters(), lr=config['learning_rate'], momentum=0.9)"
      ],
      "metadata": {
        "id": "3AbObEhpuuH3"
      },
      "execution_count": null,
      "outputs": []
    },
    {
      "cell_type": "markdown",
      "source": [
        "###**train the model**"
      ],
      "metadata": {
        "id": "-C7SK89S2Xua"
      }
    },
    {
      "cell_type": "code",
      "source": [
        "loss_te,acc1_te,acc5_te,loss_tr,acc1_tr,acc5_tr=train_model(model)"
      ],
      "metadata": {
        "id": "R5gFWPnvvV64",
        "colab": {
          "base_uri": "https://localhost:8080/"
        },
        "outputId": "8289e5fe-1e24-4590-c09d-471d828f95ba"
      },
      "execution_count": null,
      "outputs": [
        {
          "output_type": "stream",
          "name": "stdout",
          "text": [
            "Epoch [1/50], Step [94/94], Loss: 0.7481\n",
            "Acc@1 of train_set: 75.69813829787235 %\n",
            "Acc@1 of validation_set: 86.4025297164917 %\n",
            "------------------------------\n",
            "Epoch [2/50], Step [94/94], Loss: 0.2270\n",
            "Acc@1 of train_set: 92.22813236967046 %\n",
            "Acc@1 of validation_set: 87.1558780670166 %\n",
            "------------------------------\n",
            "Epoch [3/50], Step [94/94], Loss: 0.1278\n",
            "Acc@1 of train_set: 95.6855791781811 %\n",
            "Acc@1 of validation_set: 87.78831831614177 %\n",
            "------------------------------\n",
            "Epoch [4/50], Step [94/94], Loss: 0.0758\n",
            "Acc@1 of train_set: 97.82062644146859 %\n",
            "Acc@1 of validation_set: 88.97879473368327 %\n",
            "------------------------------\n",
            "Epoch [5/50], Step [94/94], Loss: 0.0448\n",
            "Acc@1 of train_set: 98.90292553191489 %\n",
            "Acc@1 of validation_set: 88.06733640034993 %\n",
            "------------------------------\n",
            "Epoch [6/50], Step [94/94], Loss: 0.0264\n",
            "Acc@1 of train_set: 99.60106382978724 %\n",
            "Acc@1 of validation_set: 88.09523804982503 %\n",
            "------------------------------\n",
            "Epoch [7/50], Step [94/94], Loss: 0.0154\n",
            "Acc@1 of train_set: 99.80053191489361 %\n",
            "Acc@1 of validation_set: 88.5230655670166 %\n",
            "------------------------------\n",
            "Epoch [8/50], Step [94/94], Loss: 0.0132\n",
            "Acc@1 of train_set: 99.86702127659575 %\n",
            "Acc@1 of validation_set: 88.44866053263347 %\n",
            "------------------------------\n",
            "Epoch [9/50], Step [94/94], Loss: 0.0088\n",
            "Acc@1 of train_set: 99.86702127659575 %\n",
            "Acc@1 of validation_set: 88.48586304982503 %\n",
            "------------------------------\n",
            "Epoch [10/50], Step [94/94], Loss: 0.0071\n",
            "Acc@1 of train_set: 99.96675531914893 %\n",
            "Acc@1 of validation_set: 88.7462797164917 %\n",
            "------------------------------\n",
            "Epoch [11/50], Step [94/94], Loss: 0.0039\n",
            "Acc@1 of train_set: 99.96675531914893 %\n",
            "Acc@1 of validation_set: 88.28125 %\n",
            "------------------------------\n",
            "Epoch [12/50], Step [94/94], Loss: 0.0060\n",
            "Acc@1 of train_set: 99.9501329787234 %\n",
            "Acc@1 of validation_set: 88.90438969930013 %\n",
            "------------------------------\n",
            "Epoch [13/50], Step [94/94], Loss: 0.0053\n",
            "Acc@1 of train_set: 99.9501329787234 %\n",
            "Acc@1 of validation_set: 88.9415922164917 %\n",
            "------------------------------\n",
            "Epoch [14/50], Step [94/94], Loss: 0.0052\n",
            "Acc@1 of train_set: 99.9501329787234 %\n",
            "Acc@1 of validation_set: 88.88578859965007 %\n",
            "------------------------------\n",
            "Epoch [15/50], Step [94/94], Loss: 0.0056\n",
            "Acc@1 of train_set: 99.93351063829788 %\n",
            "Acc@1 of validation_set: 89.2857141494751 %\n",
            "------------------------------\n",
            "Epoch [16/50], Step [94/94], Loss: 0.0026\n",
            "Acc@1 of train_set: 99.98337765957447 %\n",
            "Acc@1 of validation_set: 88.5230655670166 %\n",
            "------------------------------\n",
            "Epoch [17/50], Step [94/94], Loss: 0.0047\n",
            "Acc@1 of train_set: 99.9501329787234 %\n",
            "Acc@1 of validation_set: 88.83928553263347 %\n",
            "------------------------------\n",
            "Epoch [18/50], Step [94/94], Loss: 0.0063\n",
            "Acc@1 of train_set: 99.93351063829788 %\n",
            "Acc@1 of validation_set: 88.61607138315837 %\n",
            "------------------------------\n",
            "Epoch [19/50], Step [94/94], Loss: 0.0041\n",
            "Acc@1 of train_set: 99.9501329787234 %\n",
            "Acc@1 of validation_set: 88.70907719930013 %\n",
            "------------------------------\n",
            "Epoch [20/50], Step [94/94], Loss: 0.0019\n",
            "Acc@1 of train_set: 99.98337765957447 %\n",
            "Acc@1 of validation_set: 89.07180054982503 %\n",
            "------------------------------\n",
            "Epoch [21/50], Step [94/94], Loss: 0.0054\n",
            "Acc@1 of train_set: 99.88364361702128 %\n",
            "Acc@1 of validation_set: 89.1369047164917 %\n",
            "------------------------------\n",
            "Epoch [22/50], Step [94/94], Loss: 0.0041\n",
            "Acc@1 of train_set: 99.9501329787234 %\n",
            "Acc@1 of validation_set: 89.3322172164917 %\n",
            "------------------------------\n",
            "Epoch [23/50], Step [94/94], Loss: 0.0025\n",
            "Acc@1 of train_set: 99.9501329787234 %\n",
            "Acc@1 of validation_set: 89.02529748280843 %\n",
            "------------------------------\n",
            "Epoch [24/50], Step [94/94], Loss: 0.0036\n",
            "Acc@1 of train_set: 99.9501329787234 %\n",
            "Acc@1 of validation_set: 89.41592248280843 %\n",
            "------------------------------\n",
            "Epoch [25/50], Step [94/94], Loss: 0.0021\n",
            "Acc@1 of train_set: 99.96675531914893 %\n",
            "Acc@1 of validation_set: 89.2857141494751 %\n",
            "------------------------------\n",
            "Epoch [26/50], Step [94/94], Loss: 0.0038\n",
            "Acc@1 of train_set: 99.93351063829788 %\n",
            "Acc@1 of validation_set: 88.7927827835083 %\n",
            "------------------------------\n",
            "Epoch [27/50], Step [94/94], Loss: 0.0023\n",
            "Acc@1 of train_set: 99.96675531914893 %\n",
            "Acc@1 of validation_set: 88.96019331614177 %\n",
            "------------------------------\n",
            "Epoch [28/50], Step [94/94], Loss: 0.0029\n",
            "Acc@1 of train_set: 99.9501329787234 %\n",
            "Acc@1 of validation_set: 89.23921140034993 %\n",
            "------------------------------\n",
            "Epoch [29/50], Step [94/94], Loss: 0.0016\n",
            "Acc@1 of train_set: 99.98337765957447 %\n",
            "Acc@1 of validation_set: 89.23921140034993 %\n",
            "------------------------------\n",
            "Epoch [30/50], Step [94/94], Loss: 0.0022\n",
            "Acc@1 of train_set: 99.96675531914893 %\n",
            "Acc@1 of validation_set: 89.11830361684163 %\n",
            "------------------------------\n",
            "Epoch [31/50], Step [94/94], Loss: 0.0028\n",
            "Acc@1 of train_set: 99.93351063829788 %\n",
            "Acc@1 of validation_set: 88.81138388315837 %\n",
            "------------------------------\n",
            "Epoch [32/50], Step [94/94], Loss: 0.0016\n",
            "Acc@1 of train_set: 99.98337765957447 %\n",
            "Acc@1 of validation_set: 88.9880952835083 %\n",
            "------------------------------\n",
            "Epoch [33/50], Step [94/94], Loss: 0.0022\n",
            "Acc@1 of train_set: 99.9501329787234 %\n",
            "Acc@1 of validation_set: 89.0904016494751 %\n",
            "------------------------------\n",
            "Epoch [34/50], Step [94/94], Loss: 0.0021\n",
            "Acc@1 of train_set: 99.96675531914893 %\n",
            "Acc@1 of validation_set: 88.9880952835083 %\n",
            "------------------------------\n",
            "Epoch [35/50], Step [94/94], Loss: 0.0027\n",
            "Acc@1 of train_set: 99.93351063829788 %\n",
            "Acc@1 of validation_set: 88.9415922164917 %\n",
            "------------------------------\n",
            "Epoch [36/50], Step [94/94], Loss: 0.0015\n",
            "Acc@1 of train_set: 99.96675531914893 %\n",
            "Acc@1 of validation_set: 89.26711304982503 %\n",
            "------------------------------\n",
            "Epoch [37/50], Step [94/94], Loss: 0.0028\n",
            "Acc@1 of train_set: 99.9501329787234 %\n",
            "Acc@1 of validation_set: 89.20200888315837 %\n",
            "------------------------------\n",
            "Epoch [38/50], Step [94/94], Loss: 0.0017\n",
            "Acc@1 of train_set: 99.96675531914893 %\n",
            "Acc@1 of validation_set: 88.65327390034993 %\n",
            "------------------------------\n",
            "Epoch [39/50], Step [94/94], Loss: 0.0020\n",
            "Acc@1 of train_set: 99.9501329787234 %\n",
            "Acc@1 of validation_set: 89.1090030670166 %\n",
            "------------------------------\n",
            "Epoch [40/50], Step [94/94], Loss: 0.0023\n",
            "Acc@1 of train_set: 99.9501329787234 %\n",
            "Acc@1 of validation_set: 89.35081831614177 %\n",
            "------------------------------\n",
            "Epoch [41/50], Step [94/94], Loss: 0.0018\n",
            "Acc@1 of train_set: 99.96675531914893 %\n",
            "Acc@1 of validation_set: 89.03459803263347 %\n",
            "------------------------------\n",
            "Epoch [42/50], Step [94/94], Loss: 0.0012\n",
            "Acc@1 of train_set: 99.98337765957447 %\n",
            "Acc@1 of validation_set: 89.03459803263347 %\n",
            "------------------------------\n",
            "Epoch [43/50], Step [94/94], Loss: 0.0017\n",
            "Acc@1 of train_set: 99.96675531914893 %\n",
            "Acc@1 of validation_set: 89.17410723368327 %\n",
            "------------------------------\n",
            "Epoch [44/50], Step [94/94], Loss: 0.0038\n",
            "Acc@1 of train_set: 99.93351063829788 %\n",
            "Acc@1 of validation_set: 88.28125 %\n",
            "------------------------------\n",
            "Epoch [45/50], Step [94/94], Loss: 0.0027\n",
            "Acc@1 of train_set: 99.9501329787234 %\n",
            "Acc@1 of validation_set: 89.0625 %\n",
            "------------------------------\n",
            "Epoch [46/50], Step [94/94], Loss: 0.0021\n",
            "Acc@1 of train_set: 99.93351063829788 %\n",
            "Acc@1 of validation_set: 89.08110109965007 %\n",
            "------------------------------\n",
            "Epoch [47/50], Step [94/94], Loss: 0.0016\n",
            "Acc@1 of train_set: 99.96675531914893 %\n",
            "Acc@1 of validation_set: 89.43452390034993 %\n",
            "------------------------------\n",
            "Epoch [48/50], Step [94/94], Loss: 0.0033\n",
            "Acc@1 of train_set: 99.93351063829788 %\n",
            "Acc@1 of validation_set: 89.1834077835083 %\n",
            "------------------------------\n",
            "Epoch [49/50], Step [94/94], Loss: 0.0019\n",
            "Acc@1 of train_set: 99.9501329787234 %\n",
            "Acc@1 of validation_set: 89.2857141494751 %\n",
            "------------------------------\n",
            "Epoch [50/50], Step [94/94], Loss: 0.0014\n",
            "Acc@1 of train_set: 99.9501329787234 %\n",
            "Acc@1 of validation_set: 89.20200888315837 %\n",
            "------------------------------\n"
          ]
        }
      ]
    },
    {
      "cell_type": "markdown",
      "source": [
        "###**plot loss and accuracy**"
      ],
      "metadata": {
        "id": "SZRjocOB645I"
      }
    },
    {
      "cell_type": "code",
      "source": [
        "acc_loss_plot(loss_te,acc1_te,acc5_te,loss_tr,acc1_tr,acc5_tr)"
      ],
      "metadata": {
        "id": "5LrX2EAP_cbo",
        "colab": {
          "base_uri": "https://localhost:8080/",
          "height": 851
        },
        "outputId": "3edc8415-7306-4117-f6cc-cf1afeb58b3c"
      },
      "execution_count": null,
      "outputs": [
        {
          "output_type": "display_data",
          "data": {
            "text/plain": [
              "<Figure size 432x288 with 1 Axes>"
            ],
            "image/png": "[encoded data removed]"
          },
          "metadata": {
            "needs_background": "light"
          }
        },
        {
          "output_type": "display_data",
          "data": {
            "text/plain": [
              "<Figure size 432x288 with 1 Axes>"
            ],
            "image/png": "[encoded data removed]"
          },
          "metadata": {
            "needs_background": "light"
          }
        },
        {
          "output_type": "display_data",
          "data": {
            "text/plain": [
              "<Figure size 432x288 with 1 Axes>"
            ],
            "image/png": "[encoded data removed]"
          },
          "metadata": {
            "needs_background": "light"
          }
        }
      ]
    },
    {
      "cell_type": "markdown",
      "source": [
        "$Results  : $\n",
        "\n",
        "$maximum \\ acc@1 \\  on \\  test \\ set \\ converges \\  to  \\ : \\ 89.43  $%\n",
        "\n",
        "$maximum \\ acc@5 \\  on \\  test \\ set \\ converges \\  to  \\ : \\ 99.7  $%\n",
        "\n",
        "\n",
        "$maximum \\ acc@1 \\  on \\  trian \\ set \\ converges \\  to  \\ : \\ 99.93  $%\n",
        "\n",
        "$maximum \\ acc@5 \\  on \\  train \\ set \\ converges \\  to  \\ : \\ 100  $%\n",
        "\n",
        "---\n",
        "\n",
        "$conclusions  : $\n",
        "\n",
        "same as previous parts"
      ],
      "metadata": {
        "id": "k8fuKIigOIQv"
      }
    }
  ]
}