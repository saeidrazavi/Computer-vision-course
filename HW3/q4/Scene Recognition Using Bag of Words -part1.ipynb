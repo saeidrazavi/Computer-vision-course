{
  "nbformat": 4,
  "nbformat_minor": 0,
  "metadata": {
    "colab": {
      "name": "q4_hw03_part_A.ipynb",
      "provenance": [],
      "collapsed_sections": []
    },
    "kernelspec": {
      "name": "python3",
      "display_name": "Python 3"
    },
    "language_info": {
      "name": "python"
    }
  },
  "cells": [
    {
      "cell_type": "markdown",
      "source": [
        "##**Mount drive**"
      ],
      "metadata": {
        "id": "xG-zceoxKN7T"
      }
    },
    {
      "cell_type": "code",
      "execution_count": null,
      "metadata": {
        "id": "pQrUhsjJ-e8i",
        "colab": {
          "base_uri": "https://localhost:8080/"
        },
        "outputId": "fe4c3382-bb5a-4107-8993-e1352ec7304a"
      },
      "outputs": [
        {
          "output_type": "stream",
          "name": "stdout",
          "text": [
            "Mounted at /content/gdrive\n"
          ]
        }
      ],
      "source": [
        "from google.colab import drive\n",
        "drive.mount('/content/gdrive')"
      ]
    },
    {
      "cell_type": "markdown",
      "source": [
        "##**unzip dataset**"
      ],
      "metadata": {
        "id": "NpNKrM-lKaBj"
      }
    },
    {
      "cell_type": "code",
      "source": [
        "import zipfile\n",
        "import os \n",
        "os.chdir(\"/content\")\n",
        "path_of_zip_file=\"/content/gdrive/MyDrive/vision_dataset/Data.zip\"\n",
        "\n",
        "with zipfile.ZipFile(path_of_zip_file, 'r') as zip_ref:\n",
        "      zip_ref.extractall(\"/content\")"
      ],
      "metadata": {
        "id": "JtS7eczJKdY6"
      },
      "execution_count": null,
      "outputs": []
    },
    {
      "cell_type": "markdown",
      "source": [
        "##**part A : simple feature vector and nearest neighbor**\n"
      ],
      "metadata": {
        "id": "KGo8YApZL2iN"
      }
    },
    {
      "cell_type": "markdown",
      "source": [
        "***resize and exctract feature vector*** "
      ],
      "metadata": {
        "id": "ZWwVhKI3MD8X"
      }
    },
    {
      "cell_type": "code",
      "source": [
        "import numpy as np\n",
        "import cv2 \n",
        "import matplotlib.pyplot as plt\n",
        "import glob\n",
        "\n",
        "size_of_resized_images=(8,8)\n",
        "labels_list=[]   #--label list for each image of train set\n",
        "features_vector=[] #-- flatten feature vector for each image \n",
        "path_of_train_set=\"/content/Data/Train\"\n",
        "\n",
        "#iterate all over train_set\n",
        "for i,(root, dirs, files) in enumerate(os.walk(path_of_train_set)):\n",
        "    if(i!=0):\n",
        "       for name in glob.glob(f'{root}/*.jpg'):\n",
        "          labels_list.append(i)\n",
        "          image=cv2.imread(str(name), cv2.IMREAD_GRAYSCALE)\n",
        "          resized = np.array(cv2.resize(image, size_of_resized_images, interpolation = cv2.INTER_AREA))\n",
        "          features_vector.append(np.ravel(resized).astype(np.int32))"
      ],
      "metadata": {
        "id": "9lZfVrZaMCvw"
      },
      "execution_count": null,
      "outputs": []
    },
    {
      "cell_type": "markdown",
      "source": [
        "##**nearest neighbor function**"
      ],
      "metadata": {
        "id": "LGD4ov4-kOsQ"
      }
    },
    {
      "cell_type": "code",
      "source": [
        "def find_nearest_neighbor(vector1,list_of_candidate_vectors):\n",
        "    array_form=np.array(list_of_candidate_vectors)\n",
        "    for i in range(array_form.shape[0]):\n",
        "         array_form[i]=(array_form[i]-vector1).astype(np.int32)\n",
        "    magn_of_difference=np.sum(array_form**2,axis=1).astype(np.int32)     \n",
        "    index=(np.where(magn_of_difference==np.min(magn_of_difference)))[0][0]\n",
        "    return int(index)"
      ],
      "metadata": {
        "id": "C2RkpmmBUPrn"
      },
      "execution_count": null,
      "outputs": []
    },
    {
      "cell_type": "markdown",
      "source": [
        "##**calculate aacuracy part A**"
      ],
      "metadata": {
        "id": "z7gTCltakWM2"
      }
    },
    {
      "cell_type": "code",
      "source": [
        "#iterate all over test set\n",
        "from sklearn.neighbors import NearestNeighbors\n",
        "\n",
        "k=1\n",
        "true_predication=0\n",
        "neigh = NearestNeighbors(n_neighbors=k,metric='manhattan')\n",
        "neigh.fit(features_vector)\n",
        "NearestNeighbors(n_neighbors=k)\n",
        "\n",
        "number_of_true_prediction=0\n",
        "path_of_test_set=\"/content/Data/Test\"\n",
        "for i,(root, dirs, files) in enumerate(os.walk(path_of_test_set)):\n",
        "    if(i!=0):\n",
        "        label = str(root).split(\"/\")[-1]\n",
        "        for name in glob.glob(f'{root}/*.jpg'):\n",
        "            image=image=cv2.imread(str(name), cv2.IMREAD_GRAYSCALE)\n",
        "            resized = np.array(cv2.resize(image, size_of_resized_images, interpolation = cv2.INTER_AREA)) \n",
        "            feature = np.ravel(resized).astype(np.int32)\n",
        "            #-----------------------------\n",
        "            #-------------measure accuracy\n",
        "            indice=neigh.kneighbors(feature.reshape(1,-1))[1]\n",
        "            candidat_labels=[labels_list[ii] for ii in indice[0]]\n",
        "            prediceted_label=np.median(candidat_labels)\n",
        "            if(i==prediceted_label):\n",
        "                    true_predication+=1\n",
        "acc=float(true_predication/1500)   \n",
        "\n",
        "print(acc*100)                "
      ],
      "metadata": {
        "colab": {
          "base_uri": "https://localhost:8080/"
        },
        "id": "lKbTqs3gW4gF",
        "outputId": "9e9065fe-57c9-4744-92f8-9bb7c677a35a"
      },
      "execution_count": null,
      "outputs": [
        {
          "output_type": "stream",
          "name": "stdout",
          "text": [
            "23.133333333333333\n"
          ]
        }
      ]
    }
  ]
}