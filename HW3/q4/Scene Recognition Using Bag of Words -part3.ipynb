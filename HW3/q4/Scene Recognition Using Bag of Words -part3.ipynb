{
  "cells": [
    {
      "cell_type": "markdown",
      "metadata": {
        "id": "Rnk0yWWnNzYl"
      },
      "source": [
        "##**mount drive**"
      ]
    },
    {
      "cell_type": "code",
      "execution_count": null,
      "metadata": {
        "colab": {
          "base_uri": "https://localhost:8080/"
        },
        "id": "gG0CkguhJXbU",
        "outputId": "98f7e313-9d22-4ec0-8e49-36d8688aacb9"
      },
      "outputs": [
        {
          "name": "stdout",
          "output_type": "stream",
          "text": [
            "Mounted at /content/gdrive\n"
          ]
        }
      ],
      "source": [
        "from google.colab import drive\n",
        "drive.mount('/content/gdrive')"
      ]
    },
    {
      "cell_type": "markdown",
      "metadata": {
        "id": "1kgAM92xN3qa"
      },
      "source": [
        "##**unzip dataset**"
      ]
    },
    {
      "cell_type": "code",
      "execution_count": null,
      "metadata": {
        "id": "khOg8r3EN5yB"
      },
      "outputs": [],
      "source": [
        "import zipfile\n",
        "import os \n",
        "os.chdir(\"/content\")\n",
        "path_of_zip_file=\"/content/gdrive/MyDrive/vision_dataset/Data.zip\"\n",
        "\n",
        "with zipfile.ZipFile(path_of_zip_file, 'r') as zip_ref:\n",
        "      zip_ref.extractall(\"/content\")"
      ]
    },
    {
      "cell_type": "markdown",
      "metadata": {
        "id": "Mfx3IAzBN6i-"
      },
      "source": [
        "##**Import required libraries**"
      ]
    },
    {
      "cell_type": "code",
      "execution_count": null,
      "metadata": {
        "id": "pLi7ih8RN9YZ"
      },
      "outputs": [],
      "source": [
        "!pip install opencv-contrib-python==4.4.0.44\n",
        "import matplotlib.pyplot as plt\n",
        "import numpy as np\n",
        "import cv2\n",
        "import random\n",
        "import seaborn as sns"
      ]
    },
    {
      "cell_type": "markdown",
      "metadata": {
        "id": "YYl2eAdTOCes"
      },
      "source": [
        "##**part B : BOW and k_means**"
      ]
    },
    {
      "cell_type": "code",
      "execution_count": null,
      "metadata": {
        "id": "_KB__mDlOE9N"
      },
      "outputs": [],
      "source": [
        "import matplotlib.pyplot as plt\n",
        "import numpy as np\n",
        "import cv2\n",
        "import glob\n",
        "import os\n",
        "\n",
        "sift = cv2.SIFT_create()\n",
        "lenght_vector=np.zeros([2985])\n",
        "features_space=np.zeros([0,128])\n",
        "k_means_feature=np.zeros([0,128])\n",
        "label_list=[]\n",
        "path_of_train_set=\"/content/Data/Train\"\n",
        "j=-1\n",
        "#iterate all over train_set\n",
        "for i,(root, dirs, files) in enumerate(os.walk(path_of_train_set)):\n",
        "    if(i!=0):\n",
        "       label = str(root).split(\"/\")[-1]\n",
        "       for name in glob.glob(f'{root}/*.jpg'):\n",
        "          j+=1\n",
        "          # label_list.append(label)\n",
        "          if(j//5==0):\n",
        "            image=cv2.imread(str(name), cv2.IMREAD_GRAYSCALE)\n",
        "            kp1, des1 = sift.detectAndCompute(image,None)\n",
        "            k_means_feature=np.concatenate((k_means_feature,des1), axis=0)\n",
        "          else :\n",
        "             continue  "
      ]
    },
    {
      "cell_type": "markdown",
      "metadata": {
        "id": "b8qbPEkoOHjp"
      },
      "source": [
        "##**using k_means for extract dictionary words** "
      ]
    },
    {
      "cell_type": "code",
      "execution_count": null,
      "metadata": {
        "id": "v5H5qhxyOKGq"
      },
      "outputs": [],
      "source": [
        "from sklearn.cluster import KMeans\n",
        "kmeans = KMeans(n_clusters=100,init='k-means++',max_iter=300, random_state=0).fit(k_means_feature)\n"
      ]
    },
    {
      "cell_type": "markdown",
      "metadata": {
        "id": "QSzPKrLoONxz"
      },
      "source": [
        "##**Make train_set histogram**\n",
        "\n"
      ]
    },
    {
      "cell_type": "code",
      "execution_count": null,
      "metadata": {
        "id": "biTczIkROPnm"
      },
      "outputs": [],
      "source": [
        "import time\n",
        "from sklearn.neighbors import NearestNeighbors\n",
        "neigh = NearestNeighbors(n_neighbors=1)\n",
        "neigh.fit(kmeans.cluster_centers_)\n",
        "label_list=[]\n",
        "label_of_train_data_set=[]\n",
        "\n",
        "hist_train=np.zeros([2985,100]).astype(np.float16)\n",
        "j=-1\n",
        "start_index=0\n",
        "\n",
        "for i,(root, dirs, files) in enumerate(os.walk(path_of_train_set)):\n",
        "    if(i!=0):\n",
        "\n",
        "       label = str(root).split(\"/\")[-1]\n",
        "       label_list.append(label)\n",
        "       for name in glob.glob(f'{root}/*.jpg'):\n",
        "          j+=1\n",
        "          label_of_train_data_set.append(i)\n",
        "          image=cv2.imread(str(name), cv2.IMREAD_GRAYSCALE)\n",
        "          kp1, des1 = sift.detectAndCompute(image,None)\n",
        "          labels=neigh.kneighbors(des1, return_distance=False)\n",
        "          for lebel in labels:\n",
        "             hist_train[j,int(lebel)]+=1\n",
        "          hist_train[j,:]=hist_train[j,:]/des1.shape[0]   \n"
      ]
    },
    {
      "cell_type": "markdown",
      "metadata": {
        "id": "kr8131w5OUMC"
      },
      "source": [
        "##**Make Histogram of test set**"
      ]
    },
    {
      "cell_type": "code",
      "execution_count": null,
      "metadata": {
        "id": "3PjACLiPOUmn"
      },
      "outputs": [],
      "source": [
        "path_of_test_set=\"/content/Data/Test\"\n",
        "hist_test=np.zeros([1500,100]).astype(np.float16)\n",
        "label_of_test_data_set=[]\n",
        "j=-1\n",
        "for i,(root, dirs, files) in enumerate(os.walk(path_of_test_set)):\n",
        "    if(i!=0):\n",
        "       for name in glob.glob(f'{root}/*.jpg'):\n",
        "          label_of_test_data_set.append(i)\n",
        "          j+=1\n",
        "          image=cv2.imread(str(name), cv2.IMREAD_GRAYSCALE)\n",
        "          kp1, des1 = sift.detectAndCompute(image,None)\n",
        "          labels=neigh.kneighbors(des1, return_distance=False)\n",
        "          for lebel in labels:\n",
        "             hist_test[j,int(lebel)]+=1\n",
        "          hist_test[j,:]=hist_test[j,:]/des1.shape[0]   "
      ]
    },
    {
      "cell_type": "markdown",
      "metadata": {
        "id": "irbDa8spPBVY"
      },
      "source": [
        "#**Measure acc**"
      ]
    },
    {
      "cell_type": "code",
      "execution_count": null,
      "metadata": {
        "colab": {
          "base_uri": "https://localhost:8080/"
        },
        "id": "WDplXi25PDWH",
        "outputId": "2d3454d0-e49b-43d3-b3cb-18d993967d52"
      },
      "outputs": [
        {
          "name": "stdout",
          "output_type": "stream",
          "text": [
            "52.666666666666664\n"
          ]
        }
      ],
      "source": [
        "from sklearn.pipeline import make_pipeline\n",
        "from sklearn.preprocessing import StandardScaler\n",
        "from sklearn.svm import SVC\n",
        "\n",
        "predicted_lable_list=[]\n",
        "true_predication=0\n",
        "X = np.array(hist_train)\n",
        "y = np.array(label_of_train_data_set)\n",
        "clf = make_pipeline(StandardScaler(), SVC(gamma='auto'))\n",
        "clf.fit(X, y)\n",
        "\n",
        "for i,test_data in enumerate(hist_test) :\n",
        "   \n",
        "   prediction=int(clf.predict([test_data]))\n",
        "   predicted_lable_list.append(prediction)\n",
        "   if(label_of_test_data_set[i]==prediction):\n",
        "       true_predication+=1\n",
        "    \n",
        "acc=float(true_predication/1500)      \n",
        "print(acc*100)"
      ]
    },
    {
      "cell_type": "markdown",
      "metadata": {
        "id": "LvIgZ5CTSDpU"
      },
      "source": [
        "##**confusion matrix**\n"
      ]
    },
    {
      "cell_type": "code",
      "execution_count": null,
      "metadata": {
        "colab": {
          "base_uri": "https://localhost:8080/"
        },
        "id": "0VmfbJ4qSHG5",
        "outputId": "1b836129-f34f-49dc-ba8a-f10adce925b2"
      },
      "outputs": [
        {
          "data": {
            "image/png": "[encoded data removed]",
            "text/plain": [
              "<Figure size 432x288 with 1 Axes>"
            ]
          },
          "metadata": {
            "needs_background": "light"
          },
          "output_type": "display_data"
        },
        {
          "name": "stdout",
          "output_type": "stream",
          "text": [
            "[[30  0  1  6  4  9  1  3 10  2  3  4 16  1 10]\n",
            " [ 1 54 11  1  3  0  0  3  0 13  1 13  0  0  0]\n",
            " [ 1  4 92  0  1  0  0  0  0  0  0  2  0  0  0]\n",
            " [ 5  4  0 56  1  3  0  4  5 13  0  1  3  1  4]\n",
            " [ 3  2  0  2 86  4  0  0  0  0  0  1  0  1  1]\n",
            " [ 4  2  0  3  2 62  5  0  4  1  0  1  3  5  8]\n",
            " [ 9  2  0  4  3 24 10  1 16  1 10  1  1 12  6]\n",
            " [ 8  7  0 13  1  1  0 43  4 15  1  3  2  0  2]\n",
            " [ 7  1  0 15  1  3  2  0 51  3  1  0  6  3  7]\n",
            " [ 0 18  0  0  0  0  0  1  0 75  0  5  1  0  0]\n",
            " [ 8  4  2  4  0 31  2  1  3  6 14  3  6  8  8]\n",
            " [ 1 17  8  0  0  0  0  2  0  7  0 61  3  0  1]\n",
            " [ 9  4  0  4  1  2  0  0  7  0  0  3 61  0  9]\n",
            " [ 9  0  0  4  1 31  3  1  5  1  5  0  1 36  3]\n",
            " [ 3  0  2  3  3  9  0  0  6  0  3  1  9  2 59]]\n"
          ]
        }
      ],
      "source": [
        "from sklearn.metrics import confusion_matrix\n",
        "con_matrix=confusion_matrix(label_of_test_data_set, predicted_lable_list)\n",
        "\n",
        "plt.imshow(con_matrix)\n",
        "plt.title(\"confusion matrix\")\n",
        "plt.show()\n",
        "print(con_matrix)"
      ]
    }
  ],
  "metadata": {
    "colab": {
      "collapsed_sections": [],
      "name": "q4_hw03_part_c.ipynb",
      "provenance": []
    },
    "kernelspec": {
      "display_name": "Python 3.9.7 64-bit",
      "language": "python",
      "name": "python3"
    },
    "language_info": {
      "name": "python",
      "version": "3.9.7"
    },
    "vscode": {
      "interpreter": {
        "hash": "2da662e7b1c30472fdf8862138642a1af413fe6e4e58a7045047f9b81d51ab10"
      }
    }
  },
  "nbformat": 4,
  "nbformat_minor": 0
}
